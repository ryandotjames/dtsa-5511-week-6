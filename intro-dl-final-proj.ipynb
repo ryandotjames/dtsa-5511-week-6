{
 "cells": [
  {
   "cell_type": "markdown",
   "id": "f90500f6",
   "metadata": {
    "papermill": {
     "duration": 0.011541,
     "end_time": "2022-11-11T15:37:40.071110",
     "exception": false,
     "start_time": "2022-11-11T15:37:40.059569",
     "status": "completed"
    },
    "tags": []
   },
   "source": [
    "## Detecting Deforestation"
   ]
  },
  {
   "cell_type": "markdown",
   "id": "82747102",
   "metadata": {
    "papermill": {
     "duration": 0.009745,
     "end_time": "2022-11-11T15:37:40.091168",
     "exception": false,
     "start_time": "2022-11-11T15:37:40.081423",
     "status": "completed"
    },
    "tags": []
   },
   "source": [
    "For the rest of the course, we've been speeding through various aspects of neural networks and deep learning: forward feed/back propagation, gradient descent, CNNs, RNNs, and GANs. \n",
    "\n",
    "Like most of you reading this, I've been speeding through each week, trying to both grasp the theoretical background of each topic as well as learn how to implement using the Keras/TF library. Between data preprocessing and understanding each of the methods within the packages, it's been more than enough to plug in the right implementation and move on.\n",
    "\n",
    "In this final project, I'm going back to CNNs, the week I most enjoyed throughout the course, and comparing a baseline model with another with a second model I intent to tune extensively. Thanks for reading/reviewing."
   ]
  },
  {
   "cell_type": "markdown",
   "id": "a0a261a9",
   "metadata": {
    "papermill": {
     "duration": 0.011518,
     "end_time": "2022-11-11T15:37:40.112806",
     "exception": false,
     "start_time": "2022-11-11T15:37:40.101288",
     "status": "completed"
    },
    "tags": []
   },
   "source": [
    "## Introduction / Problem Statement"
   ]
  },
  {
   "cell_type": "markdown",
   "id": "3986e5df",
   "metadata": {
    "papermill": {
     "duration": 0.009649,
     "end_time": "2022-11-11T15:37:40.132566",
     "exception": false,
     "start_time": "2022-11-11T15:37:40.122917",
     "status": "completed"
    },
    "tags": []
   },
   "source": [
    "This problem is intented to teach the implementation of a CNN in Python in order to classify images based on the presence of deforestation. Specifically, the training data is labelled a 1 or a 0, depending on whether the image contains a coffee plantation--within this dataset/problem area, a coffee plantation is the most common use of of land where deforestation has occurred.\n",
    "\n",
    "The data provided for this problem actually doesn't include any images at all. For training our model, we will use two .txt files, both space delimited, with greyscale 1D pixel values in our \"x\" dataset and labels in our \"y\" dataset. \n",
    "\n",
    "There are 1,440 sets of pixel values within our .txt file, and each \"image\" contains 400 pixels, or a 20x20 array (although we will have to structure it below). \n",
    "\n",
    "Our test dataset is stored as a .csv file with column labels, again having 20x20 pixel values without corresponding y labels."
   ]
  },
  {
   "cell_type": "code",
   "execution_count": 1,
   "id": "fc711a07",
   "metadata": {
    "execution": {
     "iopub.execute_input": "2022-11-11T15:37:40.155331Z",
     "iopub.status.busy": "2022-11-11T15:37:40.154581Z",
     "iopub.status.idle": "2022-11-11T15:37:49.048074Z",
     "shell.execute_reply": "2022-11-11T15:37:49.046783Z"
    },
    "papermill": {
     "duration": 8.908948,
     "end_time": "2022-11-11T15:37:49.051529",
     "exception": false,
     "start_time": "2022-11-11T15:37:40.142581",
     "status": "completed"
    },
    "tags": []
   },
   "outputs": [],
   "source": [
    "import numpy as np\n",
    "import pandas as pd\n",
    "import matplotlib.pyplot as plt\n",
    "import tensorflow as tf\n",
    "import seaborn as sns\n",
    "from skimage import io\n",
    "from tensorflow.keras.preprocessing.image import ImageDataGenerator\n",
    "from tensorflow.keras import datasets, layers, models, optimizers"
   ]
  },
  {
   "cell_type": "code",
   "execution_count": 2,
   "id": "eb2ec109",
   "metadata": {
    "execution": {
     "iopub.execute_input": "2022-11-11T15:37:49.074560Z",
     "iopub.status.busy": "2022-11-11T15:37:49.073913Z",
     "iopub.status.idle": "2022-11-11T15:37:49.087802Z",
     "shell.execute_reply": "2022-11-11T15:37:49.086540Z"
    },
    "papermill": {
     "duration": 0.028085,
     "end_time": "2022-11-11T15:37:49.090444",
     "exception": false,
     "start_time": "2022-11-11T15:37:49.062359",
     "status": "completed"
    },
    "tags": []
   },
   "outputs": [],
   "source": [
    "try:\n",
    "    tpu = tf.distribute.cluster_resolver.TPUClusterResolver()\n",
    "#    print('Device:', tpu.master())\n",
    "    tf.config.experimental_connect_to_cluster(tpu)\n",
    "    tf.tpu.experimental.initialize_tpu_system(tpu)\n",
    "    strategy = tf.distribute.experimental.TPUStrategy(tpu)\n",
    "except:\n",
    "    strategy = tf.distribute.get_strategy()"
   ]
  },
  {
   "cell_type": "code",
   "execution_count": 3,
   "id": "2db06337",
   "metadata": {
    "execution": {
     "iopub.execute_input": "2022-11-11T15:37:49.112968Z",
     "iopub.status.busy": "2022-11-11T15:37:49.112555Z",
     "iopub.status.idle": "2022-11-11T15:37:49.659508Z",
     "shell.execute_reply": "2022-11-11T15:37:49.658354Z"
    },
    "papermill": {
     "duration": 0.562056,
     "end_time": "2022-11-11T15:37:49.662958",
     "exception": false,
     "start_time": "2022-11-11T15:37:49.100902",
     "status": "completed"
    },
    "tags": []
   },
   "outputs": [
    {
     "name": "stdout",
     "output_type": "stream",
     "text": [
      "1440\n",
      "1440\n"
     ]
    }
   ],
   "source": [
    "PATH = '/kaggle/input/dsc6232-rwanda-summer2021-hw2/'\n",
    "\n",
    "with open(PATH+'X_train.txt') as f:\n",
    "    x_train = f.readlines()\n",
    "    \n",
    "with open(PATH+'y_train.txt') as f:\n",
    "    y_train = f.readlines()\n",
    "    \n",
    "for i in range(0, len(y_train)):\n",
    "    y_train[i] = int(float(y_train[i].rstrip('\\n')))\n",
    "y_train = np.array(y_train)\n",
    "    \n",
    "for j in range(0, len(x_train)):\n",
    "    x_train[j] = x_train[j].split(' ')\n",
    "    for f in range(0, len(x_train[j])):\n",
    "        x_train[j][f] = float(x_train[j][f])\n",
    "    x_train[j] = np.array(x_train[j]).reshape(20,20)\n",
    "x_train = np.array(x_train)\n",
    "\n",
    "print(len(x_train))\n",
    "print(len(y_train))"
   ]
  },
  {
   "cell_type": "markdown",
   "id": "44d83f69",
   "metadata": {
    "papermill": {
     "duration": 0.009688,
     "end_time": "2022-11-11T15:37:49.684340",
     "exception": false,
     "start_time": "2022-11-11T15:37:49.674652",
     "status": "completed"
    },
    "tags": []
   },
   "source": [
    "## Exploratory Data Analysis"
   ]
  },
  {
   "cell_type": "markdown",
   "id": "743d4f86",
   "metadata": {
    "papermill": {
     "duration": 0.009673,
     "end_time": "2022-11-11T15:37:49.704098",
     "exception": false,
     "start_time": "2022-11-11T15:37:49.694425",
     "status": "completed"
    },
    "tags": []
   },
   "source": [
    "Below, we'll see that we have 1,440 images that are 20x20 pixels, with a single greyscale value. Above, we reshaped each array into the right orientation."
   ]
  },
  {
   "cell_type": "code",
   "execution_count": 4,
   "id": "f976e503",
   "metadata": {
    "execution": {
     "iopub.execute_input": "2022-11-11T15:37:49.726240Z",
     "iopub.status.busy": "2022-11-11T15:37:49.725845Z",
     "iopub.status.idle": "2022-11-11T15:37:49.737483Z",
     "shell.execute_reply": "2022-11-11T15:37:49.735846Z"
    },
    "papermill": {
     "duration": 0.026507,
     "end_time": "2022-11-11T15:37:49.740736",
     "exception": false,
     "start_time": "2022-11-11T15:37:49.714229",
     "status": "completed"
    },
    "tags": []
   },
   "outputs": [
    {
     "name": "stdout",
     "output_type": "stream",
     "text": [
      "(1440, 20, 20)\n",
      "(1440,)\n"
     ]
    },
    {
     "data": {
      "text/plain": [
       "(1440, 20, 20, 1)"
      ]
     },
     "execution_count": 4,
     "metadata": {},
     "output_type": "execute_result"
    }
   ],
   "source": [
    "print(x_train.shape)\n",
    "print(y_train.shape)\n",
    "\n",
    "x_train = np.reshape(x_train, (1440, 20, 20, 1))\n",
    "x_train.shape"
   ]
  },
  {
   "cell_type": "markdown",
   "id": "c32d837e",
   "metadata": {
    "papermill": {
     "duration": 0.010499,
     "end_time": "2022-11-11T15:37:49.762066",
     "exception": false,
     "start_time": "2022-11-11T15:37:49.751567",
     "status": "completed"
    },
    "tags": []
   },
   "source": [
    "We can also take a look at a handful of images with our corresponding labels."
   ]
  },
  {
   "cell_type": "code",
   "execution_count": 5,
   "id": "fbadbb50",
   "metadata": {
    "execution": {
     "iopub.execute_input": "2022-11-11T15:37:49.784451Z",
     "iopub.status.busy": "2022-11-11T15:37:49.784045Z",
     "iopub.status.idle": "2022-11-11T15:37:51.538378Z",
     "shell.execute_reply": "2022-11-11T15:37:51.537337Z"
    },
    "papermill": {
     "duration": 1.768464,
     "end_time": "2022-11-11T15:37:51.540981",
     "exception": false,
     "start_time": "2022-11-11T15:37:49.772517",
     "status": "completed"
    },
    "tags": []
   },
   "outputs": [
    {
     "data": {
      "image/png": "[encoded data removed]",
      "text/plain": [
       "<Figure size 1080x504 with 40 Axes>"
      ]
     },
     "metadata": {},
     "output_type": "display_data"
    }
   ],
   "source": [
    "fig, ax = plt.subplots(4, 10, figsize=(15, 7))\n",
    "for i, axis in enumerate(ax.flat):\n",
    "    axis.imshow(x_train[i], cmap='Greys')\n",
    "    axis.set(xticks=[], yticks=[], xlabel = y_train[i]);"
   ]
  },
  {
   "cell_type": "code",
   "execution_count": 6,
   "id": "98c040dd",
   "metadata": {
    "execution": {
     "iopub.execute_input": "2022-11-11T15:37:51.565933Z",
     "iopub.status.busy": "2022-11-11T15:37:51.565299Z",
     "iopub.status.idle": "2022-11-11T15:37:51.760792Z",
     "shell.execute_reply": "2022-11-11T15:37:51.759520Z"
    },
    "papermill": {
     "duration": 0.211014,
     "end_time": "2022-11-11T15:37:51.763509",
     "exception": false,
     "start_time": "2022-11-11T15:37:51.552495",
     "status": "completed"
    },
    "tags": []
   },
   "outputs": [
    {
     "data": {
      "image/png": "[encoded data removed]",
      "text/plain": [
       "<Figure size 432x288 with 1 Axes>"
      ]
     },
     "metadata": {
      "needs_background": "light"
     },
     "output_type": "display_data"
    }
   ],
   "source": [
    "sns.countplot(x=y_train, \n",
    "              palette='colorblind').set(title='Label Counts Histogram');"
   ]
  },
  {
   "cell_type": "markdown",
   "id": "238650ca",
   "metadata": {
    "papermill": {
     "duration": 0.011375,
     "end_time": "2022-11-11T15:37:51.786775",
     "exception": false,
     "start_time": "2022-11-11T15:37:51.775400",
     "status": "completed"
    },
    "tags": []
   },
   "source": [
    "Before preprocessing, we can see that the minimimum pixel value is 0, with the maximum value being 253. This makes sense, given we know the range for these types of values is 0 to 255."
   ]
  },
  {
   "cell_type": "code",
   "execution_count": 7,
   "id": "6641cb14",
   "metadata": {
    "execution": {
     "iopub.execute_input": "2022-11-11T15:37:51.811503Z",
     "iopub.status.busy": "2022-11-11T15:37:51.811109Z",
     "iopub.status.idle": "2022-11-11T15:37:53.110748Z",
     "shell.execute_reply": "2022-11-11T15:37:53.109403Z"
    },
    "papermill": {
     "duration": 1.315045,
     "end_time": "2022-11-11T15:37:53.113383",
     "exception": false,
     "start_time": "2022-11-11T15:37:51.798338",
     "status": "completed"
    },
    "tags": []
   },
   "outputs": [
    {
     "name": "stdout",
     "output_type": "stream",
     "text": [
      "[0.] [253.]\n"
     ]
    }
   ],
   "source": [
    "maxi = 0\n",
    "mini = 255\n",
    "for f in range(0, len(x_train)):\n",
    "    for y in range(0, len(x_train[f])):\n",
    "        for l in range(0, len(x_train[f][y])):\n",
    "            if x_train[f][y][l] > maxi:\n",
    "                maxi = x_train[f][y][l]\n",
    "            if x_train[f][y][l] < mini:\n",
    "                mini = x_train[f][y][l]           \n",
    "print(mini, maxi)"
   ]
  },
  {
   "cell_type": "code",
   "execution_count": 8,
   "id": "e49370f6",
   "metadata": {
    "execution": {
     "iopub.execute_input": "2022-11-11T15:37:53.138461Z",
     "iopub.status.busy": "2022-11-11T15:37:53.138058Z",
     "iopub.status.idle": "2022-11-11T15:37:53.628211Z",
     "shell.execute_reply": "2022-11-11T15:37:53.627033Z"
    },
    "papermill": {
     "duration": 0.505346,
     "end_time": "2022-11-11T15:37:53.630548",
     "exception": false,
     "start_time": "2022-11-11T15:37:53.125202",
     "status": "completed"
    },
    "tags": []
   },
   "outputs": [
    {
     "data": {
      "text/plain": [
       "<seaborn.axisgrid.FacetGrid at 0x7fe54037ffd0>"
      ]
     },
     "execution_count": 8,
     "metadata": {},
     "output_type": "execute_result"
    },
    {
     "data": {
      "image/png": "[encoded data removed]",
      "text/plain": [
       "<Figure size 402.375x360 with 1 Axes>"
      ]
     },
     "metadata": {
      "needs_background": "light"
     },
     "output_type": "display_data"
    }
   ],
   "source": [
    "means = {'label':[], 'mean':[]}\n",
    "\n",
    "for i in range(0, len(x_train)):\n",
    "    if y_train[i] == 0:\n",
    "        means['label'].append(0)\n",
    "        means['mean'].append(np.mean(x_train[i]))\n",
    "    else:\n",
    "        means['label'].append(1)\n",
    "        means['mean'].append(np.mean(x_train[i]))\n",
    "\n",
    "dist_df = pd.DataFrame(means)\n",
    "sns.displot(dist_df, x = dist_df['mean'], hue = dist_df['label'], element=\"step\", stat = 'density')"
   ]
  },
  {
   "cell_type": "markdown",
   "id": "80f18c75",
   "metadata": {
    "papermill": {
     "duration": 0.011622,
     "end_time": "2022-11-11T15:37:53.654659",
     "exception": false,
     "start_time": "2022-11-11T15:37:53.643037",
     "status": "completed"
    },
    "tags": []
   },
   "source": [
    "What we see from the above chart is the average pixel value for images labeled 0 are generally lower than images labeled 1, and are also more tightly packed around an average in the low to mid 30s. There is also more variation in the darkness/brightness of images labelled 1."
   ]
  },
  {
   "cell_type": "markdown",
   "id": "b1428be7",
   "metadata": {
    "papermill": {
     "duration": 0.011499,
     "end_time": "2022-11-11T15:37:53.678880",
     "exception": false,
     "start_time": "2022-11-11T15:37:53.667381",
     "status": "completed"
    },
    "tags": []
   },
   "source": [
    "## Data Preprocessing"
   ]
  },
  {
   "cell_type": "code",
   "execution_count": 9,
   "id": "a7d0a302",
   "metadata": {
    "execution": {
     "iopub.execute_input": "2022-11-11T15:37:53.704007Z",
     "iopub.status.busy": "2022-11-11T15:37:53.703594Z",
     "iopub.status.idle": "2022-11-11T15:37:53.709419Z",
     "shell.execute_reply": "2022-11-11T15:37:53.708039Z"
    },
    "papermill": {
     "duration": 0.02111,
     "end_time": "2022-11-11T15:37:53.711666",
     "exception": false,
     "start_time": "2022-11-11T15:37:53.690556",
     "status": "completed"
    },
    "tags": []
   },
   "outputs": [],
   "source": [
    "datagen = ImageDataGenerator(rescale=1./255., validation_split=0.2)"
   ]
  },
  {
   "cell_type": "code",
   "execution_count": 10,
   "id": "250b25f3",
   "metadata": {
    "execution": {
     "iopub.execute_input": "2022-11-11T15:37:53.738036Z",
     "iopub.status.busy": "2022-11-11T15:37:53.737146Z",
     "iopub.status.idle": "2022-11-11T15:37:53.745600Z",
     "shell.execute_reply": "2022-11-11T15:37:53.744462Z"
    },
    "papermill": {
     "duration": 0.024196,
     "end_time": "2022-11-11T15:37:53.747838",
     "exception": false,
     "start_time": "2022-11-11T15:37:53.723642",
     "status": "completed"
    },
    "tags": []
   },
   "outputs": [],
   "source": [
    "BATCH = 32\n",
    "\n",
    "with strategy.scope():\n",
    "    training_generator = datagen.flow(x_train,\n",
    "                                    y=y_train,\n",
    "                                    batch_size=BATCH,\n",
    "                                    shuffle=True,\n",
    "                                    subset = 'training')"
   ]
  },
  {
   "cell_type": "code",
   "execution_count": 11,
   "id": "212aa779",
   "metadata": {
    "execution": {
     "iopub.execute_input": "2022-11-11T15:37:53.773140Z",
     "iopub.status.busy": "2022-11-11T15:37:53.772766Z",
     "iopub.status.idle": "2022-11-11T15:37:53.778175Z",
     "shell.execute_reply": "2022-11-11T15:37:53.777299Z"
    },
    "papermill": {
     "duration": 0.02055,
     "end_time": "2022-11-11T15:37:53.780220",
     "exception": false,
     "start_time": "2022-11-11T15:37:53.759670",
     "status": "completed"
    },
    "tags": []
   },
   "outputs": [],
   "source": [
    "with strategy.scope():\n",
    "    validation_generator = datagen.flow(x_train,\n",
    "                                        y = y_train,\n",
    "                                        batch_size = BATCH,\n",
    "                                        shuffle = True,\n",
    "                                        subset = 'validation')"
   ]
  },
  {
   "cell_type": "markdown",
   "id": "23294835",
   "metadata": {
    "papermill": {
     "duration": 0.016082,
     "end_time": "2022-11-11T15:37:53.808441",
     "exception": false,
     "start_time": "2022-11-11T15:37:53.792359",
     "status": "completed"
    },
    "tags": []
   },
   "source": [
    "## Model Architecture"
   ]
  },
  {
   "cell_type": "markdown",
   "id": "c009fdd1",
   "metadata": {
    "papermill": {
     "duration": 0.011922,
     "end_time": "2022-11-11T15:37:53.836935",
     "exception": false,
     "start_time": "2022-11-11T15:37:53.825013",
     "status": "completed"
    },
    "tags": []
   },
   "source": [
    "Below, we start with our baseline model."
   ]
  },
  {
   "cell_type": "code",
   "execution_count": 12,
   "id": "9779536b",
   "metadata": {
    "execution": {
     "iopub.execute_input": "2022-11-11T15:37:53.863247Z",
     "iopub.status.busy": "2022-11-11T15:37:53.862554Z",
     "iopub.status.idle": "2022-11-11T15:37:54.203972Z",
     "shell.execute_reply": "2022-11-11T15:37:54.201650Z"
    },
    "papermill": {
     "duration": 0.357565,
     "end_time": "2022-11-11T15:37:54.206628",
     "exception": false,
     "start_time": "2022-11-11T15:37:53.849063",
     "status": "completed"
    },
    "tags": []
   },
   "outputs": [
    {
     "name": "stderr",
     "output_type": "stream",
     "text": [
      "2022-11-11 15:37:54.089300: I tensorflow/core/common_runtime/process_util.cc:146] Creating new thread pool with default inter op setting: 2. Tune using inter_op_parallelism_threads for best performance.\n"
     ]
    }
   ],
   "source": [
    "with strategy.scope():\n",
    "    model = models.Sequential()\n",
    "    model.add(layers.Conv2D(filters=16, kernel_size=(3,3), activation='relu'))\n",
    "    model.add(layers.MaxPooling2D(pool_size=(2,2)))\n",
    "    model.add(layers.Conv2D(filters=32, kernel_size=(3,3), activation='relu'))\n",
    "    model.add(layers.AveragePooling2D(pool_size=(2,2)))\n",
    "    model.add(layers.Flatten())\n",
    "    model.add(layers.Dense(10, activation='sigmoid'))\n",
    "    model.add(layers.Dense(1, activation='sigmoid'))\n",
    "    model.build(input_shape=(32, 20, 20, 1)) "
   ]
  },
  {
   "cell_type": "code",
   "execution_count": 13,
   "id": "c1fedcb0",
   "metadata": {
    "execution": {
     "iopub.execute_input": "2022-11-11T15:37:54.234474Z",
     "iopub.status.busy": "2022-11-11T15:37:54.233766Z",
     "iopub.status.idle": "2022-11-11T15:37:54.240438Z",
     "shell.execute_reply": "2022-11-11T15:37:54.238964Z"
    },
    "papermill": {
     "duration": 0.023486,
     "end_time": "2022-11-11T15:37:54.243076",
     "exception": false,
     "start_time": "2022-11-11T15:37:54.219590",
     "status": "completed"
    },
    "tags": []
   },
   "outputs": [
    {
     "name": "stdout",
     "output_type": "stream",
     "text": [
      "Model: \"sequential\"\n",
      "_________________________________________________________________\n",
      "Layer (type)                 Output Shape              Param #   \n",
      "=================================================================\n",
      "conv2d (Conv2D)              (32, 18, 18, 16)          160       \n",
      "_________________________________________________________________\n",
      "max_pooling2d (MaxPooling2D) (32, 9, 9, 16)            0         \n",
      "_________________________________________________________________\n",
      "conv2d_1 (Conv2D)            (32, 7, 7, 32)            4640      \n",
      "_________________________________________________________________\n",
      "average_pooling2d (AveragePo (32, 3, 3, 32)            0         \n",
      "_________________________________________________________________\n",
      "flatten (Flatten)            (32, 288)                 0         \n",
      "_________________________________________________________________\n",
      "dense (Dense)                (32, 10)                  2890      \n",
      "_________________________________________________________________\n",
      "dense_1 (Dense)              (32, 1)                   11        \n",
      "=================================================================\n",
      "Total params: 7,701\n",
      "Trainable params: 7,701\n",
      "Non-trainable params: 0\n",
      "_________________________________________________________________\n"
     ]
    }
   ],
   "source": [
    "model.summary()"
   ]
  },
  {
   "cell_type": "code",
   "execution_count": 14,
   "id": "5189ab63",
   "metadata": {
    "execution": {
     "iopub.execute_input": "2022-11-11T15:37:54.270542Z",
     "iopub.status.busy": "2022-11-11T15:37:54.269396Z",
     "iopub.status.idle": "2022-11-11T15:37:54.290276Z",
     "shell.execute_reply": "2022-11-11T15:37:54.289130Z"
    },
    "papermill": {
     "duration": 0.037317,
     "end_time": "2022-11-11T15:37:54.293091",
     "exception": false,
     "start_time": "2022-11-11T15:37:54.255774",
     "status": "completed"
    },
    "tags": []
   },
   "outputs": [],
   "source": [
    "with strategy.scope():\n",
    "    model.compile(loss='binary_crossentropy', metrics=['accuracy', tf.keras.metrics.AUC()], optimizer = optimizers.Adam(learning_rate=0.001))"
   ]
  },
  {
   "cell_type": "code",
   "execution_count": 15,
   "id": "2d0acf5d",
   "metadata": {
    "execution": {
     "iopub.execute_input": "2022-11-11T15:37:54.319870Z",
     "iopub.status.busy": "2022-11-11T15:37:54.319120Z",
     "iopub.status.idle": "2022-11-11T15:38:14.614009Z",
     "shell.execute_reply": "2022-11-11T15:38:14.612800Z"
    },
    "papermill": {
     "duration": 20.311387,
     "end_time": "2022-11-11T15:38:14.616561",
     "exception": false,
     "start_time": "2022-11-11T15:37:54.305174",
     "status": "completed"
    },
    "tags": []
   },
   "outputs": [
    {
     "name": "stderr",
     "output_type": "stream",
     "text": [
      "/opt/conda/lib/python3.7/site-packages/keras/engine/training.py:1972: UserWarning: `Model.fit_generator` is deprecated and will be removed in a future version. Please use `Model.fit`, which supports generators.\n",
      "  warnings.warn('`Model.fit_generator` is deprecated and '\n",
      "2022-11-11 15:37:54.416506: I tensorflow/compiler/mlir/mlir_graph_optimization_pass.cc:185] None of the MLIR Optimization Passes are enabled (registered 2)\n"
     ]
    },
    {
     "name": "stdout",
     "output_type": "stream",
     "text": [
      "Epoch 1/50\n",
      "36/36 [==============================] - 2s 20ms/step - loss: 0.8444 - accuracy: 0.3828 - auc: 0.4663 - val_loss: 0.6431 - val_accuracy: 0.6910 - val_auc: 0.2870\n",
      "Epoch 2/50\n",
      "36/36 [==============================] - 0s 8ms/step - loss: 0.6459 - accuracy: 0.6606 - auc: 0.4237 - val_loss: 0.6200 - val_accuracy: 0.6910 - val_auc: 0.3247\n",
      "Epoch 3/50\n",
      "36/36 [==============================] - 0s 8ms/step - loss: 0.6423 - accuracy: 0.6606 - auc: 0.3453 - val_loss: 0.6192 - val_accuracy: 0.6910 - val_auc: 0.5000\n",
      "Epoch 4/50\n",
      "36/36 [==============================] - 0s 8ms/step - loss: 0.6417 - accuracy: 0.6606 - auc: 0.4553 - val_loss: 0.6195 - val_accuracy: 0.6910 - val_auc: 0.5000\n",
      "Epoch 5/50\n",
      "36/36 [==============================] - 0s 8ms/step - loss: 0.6411 - accuracy: 0.6606 - auc: 0.4961 - val_loss: 0.6195 - val_accuracy: 0.6910 - val_auc: 0.5000\n",
      "Epoch 6/50\n",
      "36/36 [==============================] - 0s 8ms/step - loss: 0.6410 - accuracy: 0.6606 - auc: 0.4808 - val_loss: 0.6199 - val_accuracy: 0.6910 - val_auc: 0.5000\n",
      "Epoch 7/50\n",
      "36/36 [==============================] - 0s 8ms/step - loss: 0.6409 - accuracy: 0.6606 - auc: 0.4682 - val_loss: 0.6199 - val_accuracy: 0.6910 - val_auc: 0.5000\n",
      "Epoch 8/50\n",
      "36/36 [==============================] - 0s 8ms/step - loss: 0.6411 - accuracy: 0.6606 - auc: 0.4463 - val_loss: 0.6199 - val_accuracy: 0.6910 - val_auc: 0.5000\n",
      "Epoch 9/50\n",
      "36/36 [==============================] - 1s 18ms/step - loss: 0.6407 - accuracy: 0.6606 - auc: 0.4719 - val_loss: 0.6201 - val_accuracy: 0.6910 - val_auc: 0.5000\n",
      "Epoch 10/50\n",
      "36/36 [==============================] - 1s 13ms/step - loss: 0.6409 - accuracy: 0.6606 - auc: 0.5000 - val_loss: 0.6203 - val_accuracy: 0.6910 - val_auc: 0.5000\n",
      "Epoch 11/50\n",
      "36/36 [==============================] - 0s 8ms/step - loss: 0.6409 - accuracy: 0.6606 - auc: 0.4736 - val_loss: 0.6200 - val_accuracy: 0.6910 - val_auc: 0.5000\n",
      "Epoch 12/50\n",
      "36/36 [==============================] - 0s 8ms/step - loss: 0.6409 - accuracy: 0.6606 - auc: 0.4802 - val_loss: 0.6207 - val_accuracy: 0.6910 - val_auc: 0.5000\n",
      "Epoch 13/50\n",
      "36/36 [==============================] - 0s 8ms/step - loss: 0.6408 - accuracy: 0.6606 - auc: 0.5000 - val_loss: 0.6202 - val_accuracy: 0.6910 - val_auc: 0.5000\n",
      "Epoch 14/50\n",
      "36/36 [==============================] - 0s 7ms/step - loss: 0.6408 - accuracy: 0.6606 - auc: 0.4924 - val_loss: 0.6205 - val_accuracy: 0.6910 - val_auc: 0.5000\n",
      "Epoch 15/50\n",
      "36/36 [==============================] - 0s 7ms/step - loss: 0.6407 - accuracy: 0.6606 - auc: 0.5000 - val_loss: 0.6202 - val_accuracy: 0.6910 - val_auc: 0.5000\n",
      "Epoch 16/50\n",
      "36/36 [==============================] - 0s 7ms/step - loss: 0.6409 - accuracy: 0.6606 - auc: 0.4734 - val_loss: 0.6206 - val_accuracy: 0.6910 - val_auc: 0.5000\n",
      "Epoch 17/50\n",
      "36/36 [==============================] - 0s 9ms/step - loss: 0.6408 - accuracy: 0.6606 - auc: 0.4876 - val_loss: 0.6199 - val_accuracy: 0.6910 - val_auc: 0.5000\n",
      "Epoch 18/50\n",
      "36/36 [==============================] - 0s 8ms/step - loss: 0.6408 - accuracy: 0.6606 - auc: 0.4810 - val_loss: 0.6205 - val_accuracy: 0.6910 - val_auc: 0.5000\n",
      "Epoch 19/50\n",
      "36/36 [==============================] - 0s 8ms/step - loss: 0.6407 - accuracy: 0.6606 - auc: 0.5000 - val_loss: 0.6202 - val_accuracy: 0.6910 - val_auc: 0.5000\n",
      "Epoch 20/50\n",
      "36/36 [==============================] - 0s 10ms/step - loss: 0.6409 - accuracy: 0.6606 - auc: 0.4694 - val_loss: 0.6208 - val_accuracy: 0.6910 - val_auc: 0.5000\n",
      "Epoch 21/50\n",
      "36/36 [==============================] - 0s 8ms/step - loss: 0.6409 - accuracy: 0.6606 - auc: 0.4708 - val_loss: 0.6208 - val_accuracy: 0.6910 - val_auc: 0.5000\n",
      "Epoch 22/50\n",
      "36/36 [==============================] - 0s 8ms/step - loss: 0.6408 - accuracy: 0.6606 - auc: 0.4776 - val_loss: 0.6202 - val_accuracy: 0.6910 - val_auc: 0.5000\n",
      "Epoch 23/50\n",
      "36/36 [==============================] - 0s 8ms/step - loss: 0.6408 - accuracy: 0.6606 - auc: 0.4876 - val_loss: 0.6201 - val_accuracy: 0.6910 - val_auc: 0.5000\n",
      "Epoch 24/50\n",
      "36/36 [==============================] - 0s 8ms/step - loss: 0.6407 - accuracy: 0.6606 - auc: 0.5000 - val_loss: 0.6202 - val_accuracy: 0.6910 - val_auc: 0.5000\n",
      "Epoch 25/50\n",
      "36/36 [==============================] - 0s 8ms/step - loss: 0.6408 - accuracy: 0.6606 - auc: 0.4619 - val_loss: 0.6203 - val_accuracy: 0.6910 - val_auc: 0.5000\n",
      "Epoch 26/50\n",
      "36/36 [==============================] - 0s 8ms/step - loss: 0.6408 - accuracy: 0.6606 - auc: 0.4849 - val_loss: 0.6206 - val_accuracy: 0.6910 - val_auc: 0.5000\n",
      "Epoch 27/50\n",
      "36/36 [==============================] - 0s 8ms/step - loss: 0.6407 - accuracy: 0.6606 - auc: 0.5000 - val_loss: 0.6204 - val_accuracy: 0.6910 - val_auc: 0.5000\n",
      "Epoch 28/50\n",
      "36/36 [==============================] - 0s 8ms/step - loss: 0.6407 - accuracy: 0.6606 - auc: 0.4801 - val_loss: 0.6204 - val_accuracy: 0.6910 - val_auc: 0.5000\n",
      "Epoch 29/50\n",
      "36/36 [==============================] - 0s 8ms/step - loss: 0.6407 - accuracy: 0.6606 - auc: 0.5000 - val_loss: 0.6205 - val_accuracy: 0.6910 - val_auc: 0.5000\n",
      "Epoch 30/50\n",
      "36/36 [==============================] - 0s 8ms/step - loss: 0.6408 - accuracy: 0.6606 - auc: 0.4757 - val_loss: 0.6202 - val_accuracy: 0.6910 - val_auc: 0.5000\n",
      "Epoch 31/50\n",
      "36/36 [==============================] - 0s 7ms/step - loss: 0.6409 - accuracy: 0.6606 - auc: 0.4871 - val_loss: 0.6206 - val_accuracy: 0.6910 - val_auc: 0.5000\n",
      "Epoch 32/50\n",
      "36/36 [==============================] - 0s 8ms/step - loss: 0.6410 - accuracy: 0.6606 - auc: 0.4609 - val_loss: 0.6202 - val_accuracy: 0.6910 - val_auc: 0.5000\n",
      "Epoch 33/50\n",
      "36/36 [==============================] - 0s 7ms/step - loss: 0.6411 - accuracy: 0.6606 - auc: 0.4655 - val_loss: 0.6200 - val_accuracy: 0.6910 - val_auc: 0.5000\n",
      "Epoch 34/50\n",
      "36/36 [==============================] - 0s 8ms/step - loss: 0.6407 - accuracy: 0.6606 - auc: 0.4892 - val_loss: 0.6204 - val_accuracy: 0.6910 - val_auc: 0.5000\n",
      "Epoch 35/50\n",
      "36/36 [==============================] - 0s 8ms/step - loss: 0.6408 - accuracy: 0.6606 - auc: 0.5000 - val_loss: 0.6204 - val_accuracy: 0.6910 - val_auc: 0.5000\n",
      "Epoch 36/50\n",
      "36/36 [==============================] - 0s 7ms/step - loss: 0.6408 - accuracy: 0.6606 - auc: 0.4819 - val_loss: 0.6205 - val_accuracy: 0.6910 - val_auc: 0.5000\n",
      "Epoch 37/50\n",
      "36/36 [==============================] - 0s 8ms/step - loss: 0.6409 - accuracy: 0.6606 - auc: 0.4722 - val_loss: 0.6203 - val_accuracy: 0.6910 - val_auc: 0.5000\n",
      "Epoch 38/50\n",
      "36/36 [==============================] - 0s 8ms/step - loss: 0.6408 - accuracy: 0.6606 - auc: 0.4792 - val_loss: 0.6206 - val_accuracy: 0.6910 - val_auc: 0.5000\n",
      "Epoch 39/50\n",
      "36/36 [==============================] - 0s 8ms/step - loss: 0.6410 - accuracy: 0.6606 - auc: 0.4614 - val_loss: 0.6204 - val_accuracy: 0.6910 - val_auc: 0.5000\n",
      "Epoch 40/50\n",
      "36/36 [==============================] - 0s 7ms/step - loss: 0.6407 - accuracy: 0.6606 - auc: 0.5000 - val_loss: 0.6203 - val_accuracy: 0.6910 - val_auc: 0.5000\n",
      "Epoch 41/50\n",
      "36/36 [==============================] - 0s 7ms/step - loss: 0.6407 - accuracy: 0.6606 - auc: 0.5000 - val_loss: 0.6207 - val_accuracy: 0.6910 - val_auc: 0.5000\n",
      "Epoch 42/50\n",
      "36/36 [==============================] - 0s 7ms/step - loss: 0.6408 - accuracy: 0.6606 - auc: 0.5000 - val_loss: 0.6202 - val_accuracy: 0.6910 - val_auc: 0.5000\n",
      "Epoch 43/50\n",
      "36/36 [==============================] - 0s 8ms/step - loss: 0.6407 - accuracy: 0.6606 - auc: 0.4830 - val_loss: 0.6204 - val_accuracy: 0.6910 - val_auc: 0.5000\n",
      "Epoch 44/50\n",
      "36/36 [==============================] - 0s 7ms/step - loss: 0.6407 - accuracy: 0.6606 - auc: 0.5000 - val_loss: 0.6203 - val_accuracy: 0.6910 - val_auc: 0.5000\n",
      "Epoch 45/50\n",
      "36/36 [==============================] - 0s 7ms/step - loss: 0.6410 - accuracy: 0.6606 - auc: 0.4699 - val_loss: 0.6209 - val_accuracy: 0.6910 - val_auc: 0.5000\n",
      "Epoch 46/50\n",
      "36/36 [==============================] - 0s 8ms/step - loss: 0.6408 - accuracy: 0.6606 - auc: 0.4969 - val_loss: 0.6202 - val_accuracy: 0.6910 - val_auc: 0.5000\n",
      "Epoch 47/50\n",
      "36/36 [==============================] - 0s 7ms/step - loss: 0.6407 - accuracy: 0.6606 - auc: 0.5000 - val_loss: 0.6206 - val_accuracy: 0.6910 - val_auc: 0.5000\n",
      "Epoch 48/50\n",
      "36/36 [==============================] - 0s 7ms/step - loss: 0.6407 - accuracy: 0.6606 - auc: 0.5000 - val_loss: 0.6204 - val_accuracy: 0.6910 - val_auc: 0.5000\n",
      "Epoch 49/50\n",
      "36/36 [==============================] - 0s 8ms/step - loss: 0.6407 - accuracy: 0.6606 - auc: 0.5000 - val_loss: 0.6204 - val_accuracy: 0.6910 - val_auc: 0.5000\n",
      "Epoch 50/50\n",
      "36/36 [==============================] - 0s 8ms/step - loss: 0.6408 - accuracy: 0.6606 - auc: 0.4745 - val_loss: 0.6205 - val_accuracy: 0.6910 - val_auc: 0.5000\n"
     ]
    }
   ],
   "source": [
    "history = model.fit_generator(training_generator, epochs=50, validation_data = validation_generator)"
   ]
  },
  {
   "cell_type": "code",
   "execution_count": 16,
   "id": "ce322663",
   "metadata": {
    "execution": {
     "iopub.execute_input": "2022-11-11T15:38:14.678621Z",
     "iopub.status.busy": "2022-11-11T15:38:14.678221Z",
     "iopub.status.idle": "2022-11-11T15:38:14.905572Z",
     "shell.execute_reply": "2022-11-11T15:38:14.904270Z"
    },
    "papermill": {
     "duration": 0.261037,
     "end_time": "2022-11-11T15:38:14.908255",
     "exception": false,
     "start_time": "2022-11-11T15:38:14.647218",
     "status": "completed"
    },
    "tags": []
   },
   "outputs": [
    {
     "data": {
      "image/png": "[encoded data removed]",
      "text/plain": [
       "<Figure size 432x288 with 1 Axes>"
      ]
     },
     "metadata": {
      "needs_background": "light"
     },
     "output_type": "display_data"
    }
   ],
   "source": [
    "plt.plot(history.history['accuracy'])\n",
    "plt.plot(history.history['val_accuracy'])\n",
    "plt.title('Model Accuracy')\n",
    "plt.ylabel('accuracy')\n",
    "plt.xlabel('epoch')\n",
    "plt.legend(['train', 'validate'])\n",
    "plt.show()"
   ]
  },
  {
   "cell_type": "code",
   "execution_count": 17,
   "id": "6f1b209c",
   "metadata": {
    "execution": {
     "iopub.execute_input": "2022-11-11T15:38:14.971470Z",
     "iopub.status.busy": "2022-11-11T15:38:14.970640Z",
     "iopub.status.idle": "2022-11-11T15:38:15.183643Z",
     "shell.execute_reply": "2022-11-11T15:38:15.182423Z"
    },
    "papermill": {
     "duration": 0.247253,
     "end_time": "2022-11-11T15:38:15.186156",
     "exception": false,
     "start_time": "2022-11-11T15:38:14.938903",
     "status": "completed"
    },
    "tags": []
   },
   "outputs": [
    {
     "data": {
      "image/png": "[encoded data removed]",
      "text/plain": [
       "<Figure size 432x288 with 1 Axes>"
      ]
     },
     "metadata": {
      "needs_background": "light"
     },
     "output_type": "display_data"
    }
   ],
   "source": [
    "plt.plot(history.history['loss'])\n",
    "plt.plot(history.history['val_loss'])\n",
    "plt.title('Loss by Epoch')\n",
    "plt.ylabel('loss')\n",
    "plt.xlabel('epoch')\n",
    "plt.legend(['train', 'validate'])\n",
    "plt.show()"
   ]
  },
  {
   "cell_type": "markdown",
   "id": "121d6d09",
   "metadata": {
    "papermill": {
     "duration": 0.030733,
     "end_time": "2022-11-11T15:38:15.246997",
     "exception": false,
     "start_time": "2022-11-11T15:38:15.216264",
     "status": "completed"
    },
    "tags": []
   },
   "source": [
    "What we see using this baseline model is that through 50 epochs, we are still probably not converging, given that accuracy is still increasing and our loss measures are still decreasing. Additionally, our training and validation subsets are remaining quite tight with each other through accuracy of 80% or so near the end of training meaning we are likely not overfitting. Turning that one into Kaggle, it pops out a score in the upper 70s. Can we do better??\n",
    "\n",
    "Time to try a second model. Here's a few changes I implement below, trying each one at a time during the architecture phase of the study to make sure they each has a positive impact. This entailed running the model over and over with some back-steps when I began overfitting. Fortunately, the competition has no limit to daily submissions, in case you want to try as well.\n",
    "* Add more convolution layers (and add more filters within each of tehse layers).\n",
    "* Add batch normalization (to increase validation accuracy).\n",
    "* Add dropout layers (to reduce overfitting).\n",
    "* Add more training epochs (but also utilize early stopping to make sure we don't overfit)."
   ]
  },
  {
   "cell_type": "code",
   "execution_count": 18,
   "id": "f5942517",
   "metadata": {
    "execution": {
     "iopub.execute_input": "2022-11-11T15:38:15.310085Z",
     "iopub.status.busy": "2022-11-11T15:38:15.309271Z",
     "iopub.status.idle": "2022-11-11T15:38:15.439415Z",
     "shell.execute_reply": "2022-11-11T15:38:15.438290Z"
    },
    "papermill": {
     "duration": 0.165143,
     "end_time": "2022-11-11T15:38:15.442338",
     "exception": false,
     "start_time": "2022-11-11T15:38:15.277195",
     "status": "completed"
    },
    "tags": []
   },
   "outputs": [],
   "source": [
    "with strategy.scope():\n",
    "    model_v2 = models.Sequential()\n",
    "    model_v2.add(layers.Conv2D(filters=32, kernel_size=(3,3), activation='relu'))\n",
    "    model_v2.add(layers.MaxPooling2D(pool_size=(2,2)))\n",
    "    model_v2.add(layers.BatchNormalization())\n",
    "    model_v2.add(layers.Dropout(0.25))\n",
    "    \n",
    "    model_v2.add(layers.Conv2D(filters=64, kernel_size=(3,3), activation='relu'))\n",
    "    model_v2.add(layers.MaxPooling2D(pool_size=(2,2)))\n",
    "    model_v2.add(layers.BatchNormalization())\n",
    "    model_v2.add(layers.Dropout(0.25))\n",
    "    \n",
    "    model_v2.add(layers.Conv2D(filters=128, kernel_size=(3,3), activation='relu'))\n",
    "    model_v2.add(layers.BatchNormalization())\n",
    "    model_v2.add(layers.Dropout(0.25))\n",
    "    \n",
    "    model_v2.add(layers.Flatten())\n",
    "    model_v2.add(layers.Dense(10, activation='sigmoid'))\n",
    "    model_v2.add(layers.Dropout(0.25))\n",
    "    model_v2.add(layers.Dense(1, activation='sigmoid'))\n",
    "    model_v2.build(input_shape=(32, 20, 20, 1)) "
   ]
  },
  {
   "cell_type": "code",
   "execution_count": 19,
   "id": "0e496dab",
   "metadata": {
    "execution": {
     "iopub.execute_input": "2022-11-11T15:38:15.506875Z",
     "iopub.status.busy": "2022-11-11T15:38:15.506437Z",
     "iopub.status.idle": "2022-11-11T15:38:15.514643Z",
     "shell.execute_reply": "2022-11-11T15:38:15.513030Z"
    },
    "papermill": {
     "duration": 0.04468,
     "end_time": "2022-11-11T15:38:15.518176",
     "exception": false,
     "start_time": "2022-11-11T15:38:15.473496",
     "status": "completed"
    },
    "tags": []
   },
   "outputs": [
    {
     "name": "stdout",
     "output_type": "stream",
     "text": [
      "Model: \"sequential_1\"\n",
      "_________________________________________________________________\n",
      "Layer (type)                 Output Shape              Param #   \n",
      "=================================================================\n",
      "conv2d_2 (Conv2D)            (32, 18, 18, 32)          320       \n",
      "_________________________________________________________________\n",
      "max_pooling2d_1 (MaxPooling2 (32, 9, 9, 32)            0         \n",
      "_________________________________________________________________\n",
      "batch_normalization (BatchNo (32, 9, 9, 32)            128       \n",
      "_________________________________________________________________\n",
      "dropout (Dropout)            (32, 9, 9, 32)            0         \n",
      "_________________________________________________________________\n",
      "conv2d_3 (Conv2D)            (32, 7, 7, 64)            18496     \n",
      "_________________________________________________________________\n",
      "max_pooling2d_2 (MaxPooling2 (32, 3, 3, 64)            0         \n",
      "_________________________________________________________________\n",
      "batch_normalization_1 (Batch (32, 3, 3, 64)            256       \n",
      "_________________________________________________________________\n",
      "dropout_1 (Dropout)          (32, 3, 3, 64)            0         \n",
      "_________________________________________________________________\n",
      "conv2d_4 (Conv2D)            (32, 1, 1, 128)           73856     \n",
      "_________________________________________________________________\n",
      "batch_normalization_2 (Batch (32, 1, 1, 128)           512       \n",
      "_________________________________________________________________\n",
      "dropout_2 (Dropout)          (32, 1, 1, 128)           0         \n",
      "_________________________________________________________________\n",
      "flatten_1 (Flatten)          (32, 128)                 0         \n",
      "_________________________________________________________________\n",
      "dense_2 (Dense)              (32, 10)                  1290      \n",
      "_________________________________________________________________\n",
      "dropout_3 (Dropout)          (32, 10)                  0         \n",
      "_________________________________________________________________\n",
      "dense_3 (Dense)              (32, 1)                   11        \n",
      "=================================================================\n",
      "Total params: 94,869\n",
      "Trainable params: 94,421\n",
      "Non-trainable params: 448\n",
      "_________________________________________________________________\n"
     ]
    }
   ],
   "source": [
    "model_v2.summary()"
   ]
  },
  {
   "cell_type": "markdown",
   "id": "77b57c42",
   "metadata": {
    "papermill": {
     "duration": 0.029962,
     "end_time": "2022-11-11T15:38:15.579707",
     "exception": false,
     "start_time": "2022-11-11T15:38:15.549745",
     "status": "completed"
    },
    "tags": []
   },
   "source": [
    "One final change for our more tuned model: reading through the competition guidelines, we can see that submissions are not actually graded using accuracy, but instead F1, which is a slightly different measure which utilizes both the precision and recall of the output to score.\n",
    "\n",
    "Because of this, it's important to make sure our model is training based on the metric we will be scored against. Below, I've leveraged an f1 function (with citation) which can then be called in the compiler."
   ]
  },
  {
   "cell_type": "code",
   "execution_count": 20,
   "id": "01aba1a7",
   "metadata": {
    "execution": {
     "iopub.execute_input": "2022-11-11T15:38:15.643972Z",
     "iopub.status.busy": "2022-11-11T15:38:15.642940Z",
     "iopub.status.idle": "2022-11-11T15:38:15.650555Z",
     "shell.execute_reply": "2022-11-11T15:38:15.649684Z"
    },
    "papermill": {
     "duration": 0.042362,
     "end_time": "2022-11-11T15:38:15.652898",
     "exception": false,
     "start_time": "2022-11-11T15:38:15.610536",
     "status": "completed"
    },
    "tags": []
   },
   "outputs": [],
   "source": [
    "## F1 for compiler, here: https://aakashgoel12.medium.com/how-to-add-user-defined-function-get-f1-score-in-keras-metrics-3013f979ce0d#:~:text=By%20default%2C%20f1%20score%20is,like%20accuracy%2C%20categorical%20accuracy%20etc.\n",
    "import keras.backend as K\n",
    "\n",
    "def get_f1(y_true, y_pred): #taken from old keras source code\n",
    "    true_positives = K.sum(K.round(K.clip(y_true * y_pred, 0, 1)))\n",
    "    possible_positives = K.sum(K.round(K.clip(y_true, 0, 1)))\n",
    "    predicted_positives = K.sum(K.round(K.clip(y_pred, 0, 1)))\n",
    "    precision = true_positives / (predicted_positives + K.epsilon())\n",
    "    recall = true_positives / (possible_positives + K.epsilon())\n",
    "    f1_val = 2*(precision*recall)/(precision+recall+K.epsilon())\n",
    "    return f1_val"
   ]
  },
  {
   "cell_type": "code",
   "execution_count": 21,
   "id": "77134e8a",
   "metadata": {
    "execution": {
     "iopub.execute_input": "2022-11-11T15:38:15.716658Z",
     "iopub.status.busy": "2022-11-11T15:38:15.716233Z",
     "iopub.status.idle": "2022-11-11T15:38:15.729131Z",
     "shell.execute_reply": "2022-11-11T15:38:15.727968Z"
    },
    "papermill": {
     "duration": 0.047751,
     "end_time": "2022-11-11T15:38:15.731663",
     "exception": false,
     "start_time": "2022-11-11T15:38:15.683912",
     "status": "completed"
    },
    "tags": []
   },
   "outputs": [],
   "source": [
    "with strategy.scope():\n",
    "    model_v2.compile(loss='binary_crossentropy', metrics=[get_f1], optimizer = optimizers.Adamax(learning_rate=0.001))"
   ]
  },
  {
   "cell_type": "code",
   "execution_count": 22,
   "id": "f8d4dc7d",
   "metadata": {
    "execution": {
     "iopub.execute_input": "2022-11-11T15:38:15.795496Z",
     "iopub.status.busy": "2022-11-11T15:38:15.795108Z",
     "iopub.status.idle": "2022-11-11T15:40:21.549057Z",
     "shell.execute_reply": "2022-11-11T15:40:21.547867Z"
    },
    "papermill": {
     "duration": 125.789256,
     "end_time": "2022-11-11T15:40:21.551413",
     "exception": false,
     "start_time": "2022-11-11T15:38:15.762157",
     "status": "completed"
    },
    "tags": []
   },
   "outputs": [
    {
     "name": "stdout",
     "output_type": "stream",
     "text": [
      "Epoch 1/300\n",
      "36/36 [==============================] - 2s 23ms/step - loss: 0.5696 - get_f1: 0.4993 - val_loss: 0.6276 - val_get_f1: 0.0000e+00\n",
      "Epoch 2/300\n",
      "36/36 [==============================] - 1s 14ms/step - loss: 0.5058 - get_f1: 0.6399 - val_loss: 0.6098 - val_get_f1: 0.0000e+00\n",
      "Epoch 3/300\n",
      "36/36 [==============================] - 1s 15ms/step - loss: 0.4849 - get_f1: 0.6446 - val_loss: 0.6149 - val_get_f1: 0.0000e+00\n",
      "Epoch 4/300\n",
      "36/36 [==============================] - 1s 15ms/step - loss: 0.4626 - get_f1: 0.6832 - val_loss: 0.6674 - val_get_f1: 0.0000e+00\n",
      "Epoch 5/300\n",
      "36/36 [==============================] - 1s 15ms/step - loss: 0.4475 - get_f1: 0.6976 - val_loss: 0.7241 - val_get_f1: 0.0000e+00\n",
      "Epoch 6/300\n",
      "36/36 [==============================] - 1s 15ms/step - loss: 0.4476 - get_f1: 0.7185 - val_loss: 0.7658 - val_get_f1: 0.0000e+00\n",
      "Epoch 7/300\n",
      "36/36 [==============================] - 1s 15ms/step - loss: 0.4268 - get_f1: 0.7049 - val_loss: 0.8055 - val_get_f1: 0.0000e+00\n",
      "Epoch 8/300\n",
      "36/36 [==============================] - 1s 15ms/step - loss: 0.4128 - get_f1: 0.7392 - val_loss: 0.8250 - val_get_f1: 0.0000e+00\n",
      "Epoch 9/300\n",
      "36/36 [==============================] - 1s 15ms/step - loss: 0.4141 - get_f1: 0.7315 - val_loss: 0.8510 - val_get_f1: 0.0000e+00\n",
      "Epoch 10/300\n",
      "36/36 [==============================] - 1s 15ms/step - loss: 0.4056 - get_f1: 0.7405 - val_loss: 0.8558 - val_get_f1: 0.0000e+00\n",
      "Epoch 11/300\n",
      "36/36 [==============================] - 1s 15ms/step - loss: 0.3835 - get_f1: 0.7785 - val_loss: 0.8698 - val_get_f1: 0.0000e+00\n",
      "Epoch 12/300\n",
      "36/36 [==============================] - 1s 15ms/step - loss: 0.3730 - get_f1: 0.7759 - val_loss: 0.8670 - val_get_f1: 0.0000e+00\n",
      "Epoch 13/300\n",
      "36/36 [==============================] - 1s 15ms/step - loss: 0.3622 - get_f1: 0.8035 - val_loss: 0.8729 - val_get_f1: 0.0000e+00\n",
      "Epoch 14/300\n",
      "36/36 [==============================] - 1s 15ms/step - loss: 0.3585 - get_f1: 0.7731 - val_loss: 0.8334 - val_get_f1: 0.0185\n",
      "Epoch 15/300\n",
      "36/36 [==============================] - 1s 15ms/step - loss: 0.3622 - get_f1: 0.7813 - val_loss: 0.7930 - val_get_f1: 0.0780\n",
      "Epoch 16/300\n",
      "36/36 [==============================] - 1s 15ms/step - loss: 0.3518 - get_f1: 0.7782 - val_loss: 0.7857 - val_get_f1: 0.1248\n",
      "Epoch 17/300\n",
      "36/36 [==============================] - 1s 15ms/step - loss: 0.3424 - get_f1: 0.8000 - val_loss: 0.6955 - val_get_f1: 0.2688\n",
      "Epoch 18/300\n",
      "36/36 [==============================] - 1s 14ms/step - loss: 0.3248 - get_f1: 0.8124 - val_loss: 0.7018 - val_get_f1: 0.2652\n",
      "Epoch 19/300\n",
      "36/36 [==============================] - 1s 14ms/step - loss: 0.3410 - get_f1: 0.8073 - val_loss: 0.4096 - val_get_f1: 0.6499\n",
      "Epoch 20/300\n",
      "36/36 [==============================] - 1s 14ms/step - loss: 0.3363 - get_f1: 0.8092 - val_loss: 0.5879 - val_get_f1: 0.3361\n",
      "Epoch 21/300\n",
      "36/36 [==============================] - 1s 14ms/step - loss: 0.3150 - get_f1: 0.8331 - val_loss: 0.3668 - val_get_f1: 0.7238\n",
      "Epoch 22/300\n",
      "36/36 [==============================] - 1s 14ms/step - loss: 0.3062 - get_f1: 0.8321 - val_loss: 0.4821 - val_get_f1: 0.5559\n",
      "Epoch 23/300\n",
      "36/36 [==============================] - 1s 15ms/step - loss: 0.3104 - get_f1: 0.8247 - val_loss: 0.3743 - val_get_f1: 0.7095\n",
      "Epoch 24/300\n",
      "36/36 [==============================] - 1s 14ms/step - loss: 0.3013 - get_f1: 0.8300 - val_loss: 0.5448 - val_get_f1: 0.4377\n",
      "Epoch 25/300\n",
      "36/36 [==============================] - 1s 34ms/step - loss: 0.2780 - get_f1: 0.8603 - val_loss: 0.4715 - val_get_f1: 0.5494\n",
      "Epoch 26/300\n",
      "36/36 [==============================] - 1s 15ms/step - loss: 0.2843 - get_f1: 0.8418 - val_loss: 0.4501 - val_get_f1: 0.6325\n",
      "Epoch 27/300\n",
      "36/36 [==============================] - 1s 14ms/step - loss: 0.2785 - get_f1: 0.8504 - val_loss: 0.3565 - val_get_f1: 0.7672\n",
      "Epoch 28/300\n",
      "36/36 [==============================] - 1s 14ms/step - loss: 0.2757 - get_f1: 0.8545 - val_loss: 0.4249 - val_get_f1: 0.6691\n",
      "Epoch 29/300\n",
      "36/36 [==============================] - 1s 15ms/step - loss: 0.2630 - get_f1: 0.8687 - val_loss: 0.4278 - val_get_f1: 0.6705\n",
      "Epoch 30/300\n",
      "36/36 [==============================] - 1s 15ms/step - loss: 0.2610 - get_f1: 0.8658 - val_loss: 0.6279 - val_get_f1: 0.3903\n",
      "Epoch 31/300\n",
      "36/36 [==============================] - 1s 15ms/step - loss: 0.2599 - get_f1: 0.8602 - val_loss: 0.3730 - val_get_f1: 0.7614\n",
      "Epoch 32/300\n",
      "36/36 [==============================] - 1s 15ms/step - loss: 0.2451 - get_f1: 0.8699 - val_loss: 0.3935 - val_get_f1: 0.7099\n",
      "Epoch 33/300\n",
      "36/36 [==============================] - 1s 15ms/step - loss: 0.2681 - get_f1: 0.8438 - val_loss: 0.3559 - val_get_f1: 0.7446\n",
      "Epoch 34/300\n",
      "36/36 [==============================] - 1s 14ms/step - loss: 0.2693 - get_f1: 0.8565 - val_loss: 0.3585 - val_get_f1: 0.7433\n",
      "Epoch 35/300\n",
      "36/36 [==============================] - 1s 17ms/step - loss: 0.2381 - get_f1: 0.8800 - val_loss: 0.3524 - val_get_f1: 0.7769\n",
      "Epoch 36/300\n",
      "36/36 [==============================] - 1s 15ms/step - loss: 0.2254 - get_f1: 0.8939 - val_loss: 0.3733 - val_get_f1: 0.7239\n",
      "Epoch 37/300\n",
      "36/36 [==============================] - 1s 14ms/step - loss: 0.2396 - get_f1: 0.8807 - val_loss: 0.3498 - val_get_f1: 0.7824\n",
      "Epoch 38/300\n",
      "36/36 [==============================] - 1s 14ms/step - loss: 0.2314 - get_f1: 0.8808 - val_loss: 0.3893 - val_get_f1: 0.7541\n",
      "Epoch 39/300\n",
      "36/36 [==============================] - 1s 15ms/step - loss: 0.2408 - get_f1: 0.8679 - val_loss: 0.3613 - val_get_f1: 0.7646\n",
      "Epoch 40/300\n",
      "36/36 [==============================] - 1s 15ms/step - loss: 0.2226 - get_f1: 0.8950 - val_loss: 0.6216 - val_get_f1: 0.4554\n",
      "Epoch 41/300\n",
      "36/36 [==============================] - 1s 14ms/step - loss: 0.2122 - get_f1: 0.9050 - val_loss: 0.3789 - val_get_f1: 0.7499\n",
      "Epoch 42/300\n",
      "36/36 [==============================] - 1s 15ms/step - loss: 0.2264 - get_f1: 0.8757 - val_loss: 0.4068 - val_get_f1: 0.7308\n",
      "Epoch 43/300\n",
      "36/36 [==============================] - 1s 15ms/step - loss: 0.1874 - get_f1: 0.9226 - val_loss: 0.4204 - val_get_f1: 0.6924\n",
      "Epoch 44/300\n",
      "36/36 [==============================] - 1s 15ms/step - loss: 0.2092 - get_f1: 0.9013 - val_loss: 0.3660 - val_get_f1: 0.7469\n",
      "Epoch 45/300\n",
      "36/36 [==============================] - 1s 14ms/step - loss: 0.1993 - get_f1: 0.9026 - val_loss: 0.3617 - val_get_f1: 0.7700\n",
      "Epoch 46/300\n",
      "36/36 [==============================] - 1s 14ms/step - loss: 0.1952 - get_f1: 0.9059 - val_loss: 0.3692 - val_get_f1: 0.7872\n",
      "Epoch 47/300\n",
      "36/36 [==============================] - 1s 15ms/step - loss: 0.2015 - get_f1: 0.9033 - val_loss: 0.3858 - val_get_f1: 0.7455\n",
      "Epoch 48/300\n",
      "36/36 [==============================] - 1s 14ms/step - loss: 0.1748 - get_f1: 0.9259 - val_loss: 0.3681 - val_get_f1: 0.7487\n",
      "Epoch 49/300\n",
      "36/36 [==============================] - 1s 14ms/step - loss: 0.1863 - get_f1: 0.9054 - val_loss: 0.3653 - val_get_f1: 0.7657\n",
      "Epoch 50/300\n",
      "36/36 [==============================] - 1s 16ms/step - loss: 0.1643 - get_f1: 0.9249 - val_loss: 0.4006 - val_get_f1: 0.7497\n",
      "Epoch 51/300\n",
      "36/36 [==============================] - 1s 15ms/step - loss: 0.1794 - get_f1: 0.9149 - val_loss: 0.3637 - val_get_f1: 0.7524\n",
      "Epoch 52/300\n",
      "36/36 [==============================] - 1s 14ms/step - loss: 0.1765 - get_f1: 0.9021 - val_loss: 0.4048 - val_get_f1: 0.7511\n",
      "Epoch 53/300\n",
      "36/36 [==============================] - 1s 14ms/step - loss: 0.1650 - get_f1: 0.9324 - val_loss: 0.3961 - val_get_f1: 0.7452\n",
      "Epoch 54/300\n",
      "36/36 [==============================] - 1s 16ms/step - loss: 0.1854 - get_f1: 0.9090 - val_loss: 0.3588 - val_get_f1: 0.7898\n",
      "Epoch 55/300\n",
      "36/36 [==============================] - 1s 14ms/step - loss: 0.1604 - get_f1: 0.9293 - val_loss: 0.3870 - val_get_f1: 0.7112\n",
      "Epoch 56/300\n",
      "36/36 [==============================] - 1s 14ms/step - loss: 0.1757 - get_f1: 0.9161 - val_loss: 0.4099 - val_get_f1: 0.7483\n",
      "Epoch 57/300\n",
      "36/36 [==============================] - 1s 14ms/step - loss: 0.1648 - get_f1: 0.9209 - val_loss: 0.3718 - val_get_f1: 0.8020\n",
      "Epoch 58/300\n",
      "36/36 [==============================] - 1s 14ms/step - loss: 0.1618 - get_f1: 0.9278 - val_loss: 0.3610 - val_get_f1: 0.7608\n",
      "Epoch 59/300\n",
      "36/36 [==============================] - 1s 14ms/step - loss: 0.1560 - get_f1: 0.9252 - val_loss: 0.4654 - val_get_f1: 0.7538\n",
      "Epoch 60/300\n",
      "36/36 [==============================] - 1s 14ms/step - loss: 0.1589 - get_f1: 0.9230 - val_loss: 0.4369 - val_get_f1: 0.7276\n",
      "Epoch 61/300\n",
      "36/36 [==============================] - 1s 14ms/step - loss: 0.1612 - get_f1: 0.9250 - val_loss: 0.3723 - val_get_f1: 0.7966\n",
      "Epoch 62/300\n",
      "36/36 [==============================] - 1s 14ms/step - loss: 0.1620 - get_f1: 0.9158 - val_loss: 0.4088 - val_get_f1: 0.7443\n",
      "Epoch 63/300\n",
      "36/36 [==============================] - 1s 14ms/step - loss: 0.1426 - get_f1: 0.9397 - val_loss: 0.3977 - val_get_f1: 0.7682\n",
      "Epoch 64/300\n",
      "36/36 [==============================] - 1s 15ms/step - loss: 0.1345 - get_f1: 0.9433 - val_loss: 0.3620 - val_get_f1: 0.7781\n",
      "Epoch 65/300\n",
      "36/36 [==============================] - 1s 14ms/step - loss: 0.1453 - get_f1: 0.9354 - val_loss: 0.3821 - val_get_f1: 0.7584\n",
      "Epoch 66/300\n",
      "36/36 [==============================] - 1s 14ms/step - loss: 0.1488 - get_f1: 0.9282 - val_loss: 0.3799 - val_get_f1: 0.7659\n",
      "Epoch 67/300\n",
      "36/36 [==============================] - 1s 14ms/step - loss: 0.1544 - get_f1: 0.9232 - val_loss: 0.4144 - val_get_f1: 0.7192\n",
      "Epoch 68/300\n",
      "36/36 [==============================] - 1s 14ms/step - loss: 0.1418 - get_f1: 0.9222 - val_loss: 0.4003 - val_get_f1: 0.7486\n",
      "Epoch 69/300\n",
      "36/36 [==============================] - 1s 15ms/step - loss: 0.1514 - get_f1: 0.9172 - val_loss: 0.4161 - val_get_f1: 0.7525\n",
      "Epoch 70/300\n",
      "36/36 [==============================] - 1s 14ms/step - loss: 0.1408 - get_f1: 0.9322 - val_loss: 0.3804 - val_get_f1: 0.7831\n",
      "Epoch 71/300\n",
      "36/36 [==============================] - 1s 14ms/step - loss: 0.1475 - get_f1: 0.9285 - val_loss: 0.3784 - val_get_f1: 0.7515\n",
      "Epoch 72/300\n",
      "36/36 [==============================] - 1s 14ms/step - loss: 0.1550 - get_f1: 0.9310 - val_loss: 0.4503 - val_get_f1: 0.7435\n",
      "Epoch 73/300\n",
      "36/36 [==============================] - 1s 15ms/step - loss: 0.1307 - get_f1: 0.9348 - val_loss: 0.4064 - val_get_f1: 0.7553\n",
      "Epoch 74/300\n",
      "36/36 [==============================] - 1s 17ms/step - loss: 0.1434 - get_f1: 0.9329 - val_loss: 0.4043 - val_get_f1: 0.7726\n",
      "Epoch 75/300\n",
      "36/36 [==============================] - 1s 14ms/step - loss: 0.1209 - get_f1: 0.9481 - val_loss: 0.3921 - val_get_f1: 0.7416\n",
      "Epoch 76/300\n",
      "36/36 [==============================] - 1s 14ms/step - loss: 0.1276 - get_f1: 0.9386 - val_loss: 0.5083 - val_get_f1: 0.6820\n",
      "Epoch 77/300\n",
      "36/36 [==============================] - 1s 14ms/step - loss: 0.1130 - get_f1: 0.9563 - val_loss: 0.4642 - val_get_f1: 0.7557\n",
      "Epoch 78/300\n",
      "36/36 [==============================] - 1s 14ms/step - loss: 0.1211 - get_f1: 0.9542 - val_loss: 0.3781 - val_get_f1: 0.7824\n",
      "Epoch 79/300\n",
      "36/36 [==============================] - 1s 23ms/step - loss: 0.1506 - get_f1: 0.9172 - val_loss: 0.5677 - val_get_f1: 0.6232\n",
      "Epoch 80/300\n",
      "36/36 [==============================] - 1s 15ms/step - loss: 0.1313 - get_f1: 0.9383 - val_loss: 0.3957 - val_get_f1: 0.7713\n",
      "Epoch 81/300\n",
      "36/36 [==============================] - 1s 15ms/step - loss: 0.1179 - get_f1: 0.9443 - val_loss: 0.4620 - val_get_f1: 0.7394\n",
      "Epoch 82/300\n",
      "36/36 [==============================] - 1s 14ms/step - loss: 0.1286 - get_f1: 0.9469 - val_loss: 0.4486 - val_get_f1: 0.7120\n",
      "Epoch 83/300\n",
      "36/36 [==============================] - 1s 15ms/step - loss: 0.1189 - get_f1: 0.9482 - val_loss: 0.4309 - val_get_f1: 0.7490\n",
      "Epoch 84/300\n",
      "36/36 [==============================] - 1s 15ms/step - loss: 0.1124 - get_f1: 0.9472 - val_loss: 0.4060 - val_get_f1: 0.7767\n",
      "Epoch 85/300\n",
      "36/36 [==============================] - 1s 15ms/step - loss: 0.1303 - get_f1: 0.9356 - val_loss: 0.3974 - val_get_f1: 0.7842\n",
      "Epoch 86/300\n",
      "36/36 [==============================] - 1s 14ms/step - loss: 0.1160 - get_f1: 0.9415 - val_loss: 0.3755 - val_get_f1: 0.7849\n",
      "Epoch 87/300\n",
      "36/36 [==============================] - 1s 14ms/step - loss: 0.1248 - get_f1: 0.9389 - val_loss: 0.3992 - val_get_f1: 0.7664\n",
      "Epoch 88/300\n",
      "36/36 [==============================] - 1s 14ms/step - loss: 0.1119 - get_f1: 0.9517 - val_loss: 0.4357 - val_get_f1: 0.7324\n",
      "Epoch 89/300\n",
      "36/36 [==============================] - 1s 14ms/step - loss: 0.1103 - get_f1: 0.9478 - val_loss: 0.3896 - val_get_f1: 0.7544\n",
      "Epoch 90/300\n",
      "36/36 [==============================] - 1s 14ms/step - loss: 0.1235 - get_f1: 0.9483 - val_loss: 0.4199 - val_get_f1: 0.7689\n",
      "Epoch 91/300\n",
      "36/36 [==============================] - 1s 14ms/step - loss: 0.1126 - get_f1: 0.9601 - val_loss: 0.3943 - val_get_f1: 0.7658\n",
      "Epoch 92/300\n",
      "36/36 [==============================] - 1s 14ms/step - loss: 0.1179 - get_f1: 0.9410 - val_loss: 0.3994 - val_get_f1: 0.7890\n",
      "Epoch 93/300\n",
      "36/36 [==============================] - 1s 16ms/step - loss: 0.0935 - get_f1: 0.9659 - val_loss: 0.4024 - val_get_f1: 0.7609\n",
      "Epoch 94/300\n",
      "36/36 [==============================] - 1s 14ms/step - loss: 0.0978 - get_f1: 0.9559 - val_loss: 0.4073 - val_get_f1: 0.7718\n",
      "Epoch 95/300\n",
      "36/36 [==============================] - 1s 14ms/step - loss: 0.1157 - get_f1: 0.9393 - val_loss: 0.4219 - val_get_f1: 0.7649\n",
      "Epoch 96/300\n",
      "36/36 [==============================] - 1s 14ms/step - loss: 0.1037 - get_f1: 0.9569 - val_loss: 0.5087 - val_get_f1: 0.6540\n",
      "Epoch 97/300\n",
      "36/36 [==============================] - 1s 14ms/step - loss: 0.0973 - get_f1: 0.9552 - val_loss: 0.4364 - val_get_f1: 0.7462\n",
      "Epoch 98/300\n",
      "36/36 [==============================] - 1s 14ms/step - loss: 0.1028 - get_f1: 0.9554 - val_loss: 0.4217 - val_get_f1: 0.7737\n",
      "Epoch 99/300\n",
      "36/36 [==============================] - 1s 14ms/step - loss: 0.1011 - get_f1: 0.9592 - val_loss: 0.4258 - val_get_f1: 0.7649\n",
      "Epoch 100/300\n",
      "36/36 [==============================] - 1s 14ms/step - loss: 0.0811 - get_f1: 0.9613 - val_loss: 0.4125 - val_get_f1: 0.7548\n",
      "Epoch 101/300\n",
      "36/36 [==============================] - 1s 14ms/step - loss: 0.0988 - get_f1: 0.9575 - val_loss: 0.4220 - val_get_f1: 0.7796\n",
      "Epoch 102/300\n",
      "36/36 [==============================] - 1s 14ms/step - loss: 0.1117 - get_f1: 0.9571 - val_loss: 0.5014 - val_get_f1: 0.7583\n",
      "Epoch 103/300\n",
      "36/36 [==============================] - 1s 15ms/step - loss: 0.0973 - get_f1: 0.9551 - val_loss: 0.4440 - val_get_f1: 0.7728\n",
      "Epoch 104/300\n",
      "36/36 [==============================] - 1s 14ms/step - loss: 0.1101 - get_f1: 0.9530 - val_loss: 0.4115 - val_get_f1: 0.7719\n",
      "Epoch 105/300\n",
      "36/36 [==============================] - 1s 14ms/step - loss: 0.0776 - get_f1: 0.9704 - val_loss: 0.4557 - val_get_f1: 0.7334\n",
      "Epoch 106/300\n",
      "36/36 [==============================] - 1s 14ms/step - loss: 0.0741 - get_f1: 0.9654 - val_loss: 0.4406 - val_get_f1: 0.7422\n",
      "Epoch 107/300\n",
      "36/36 [==============================] - 1s 14ms/step - loss: 0.0901 - get_f1: 0.9594 - val_loss: 0.4240 - val_get_f1: 0.7610\n",
      "Epoch 108/300\n",
      "36/36 [==============================] - 1s 14ms/step - loss: 0.0757 - get_f1: 0.9750 - val_loss: 0.4976 - val_get_f1: 0.7678\n",
      "Epoch 109/300\n",
      "36/36 [==============================] - 1s 14ms/step - loss: 0.0756 - get_f1: 0.9747 - val_loss: 0.5385 - val_get_f1: 0.7576\n",
      "Epoch 110/300\n",
      "36/36 [==============================] - 1s 14ms/step - loss: 0.0839 - get_f1: 0.9664 - val_loss: 0.4329 - val_get_f1: 0.7872\n",
      "Epoch 111/300\n",
      "36/36 [==============================] - 1s 14ms/step - loss: 0.0912 - get_f1: 0.9559 - val_loss: 0.4358 - val_get_f1: 0.7878\n",
      "Epoch 112/300\n",
      "36/36 [==============================] - 1s 14ms/step - loss: 0.1019 - get_f1: 0.9576 - val_loss: 0.4472 - val_get_f1: 0.7709\n",
      "Epoch 113/300\n",
      "36/36 [==============================] - 1s 15ms/step - loss: 0.0912 - get_f1: 0.9606 - val_loss: 0.4358 - val_get_f1: 0.7744\n",
      "Epoch 114/300\n",
      "36/36 [==============================] - 1s 14ms/step - loss: 0.0850 - get_f1: 0.9575 - val_loss: 0.4360 - val_get_f1: 0.7732\n",
      "Epoch 115/300\n",
      "36/36 [==============================] - 1s 14ms/step - loss: 0.0798 - get_f1: 0.9674 - val_loss: 0.4379 - val_get_f1: 0.7853\n",
      "Epoch 116/300\n",
      "36/36 [==============================] - 1s 14ms/step - loss: 0.0816 - get_f1: 0.9663 - val_loss: 0.4538 - val_get_f1: 0.7857\n",
      "Epoch 117/300\n",
      "36/36 [==============================] - 1s 14ms/step - loss: 0.0858 - get_f1: 0.9625 - val_loss: 0.4827 - val_get_f1: 0.7336\n",
      "Epoch 118/300\n",
      "36/36 [==============================] - 1s 14ms/step - loss: 0.0931 - get_f1: 0.9536 - val_loss: 0.5171 - val_get_f1: 0.7715\n",
      "Epoch 119/300\n",
      "36/36 [==============================] - 1s 14ms/step - loss: 0.0806 - get_f1: 0.9660 - val_loss: 0.4528 - val_get_f1: 0.7860\n",
      "Epoch 120/300\n",
      "36/36 [==============================] - 1s 14ms/step - loss: 0.1049 - get_f1: 0.9404 - val_loss: 0.4615 - val_get_f1: 0.7659\n",
      "Epoch 121/300\n",
      "36/36 [==============================] - 1s 14ms/step - loss: 0.0931 - get_f1: 0.9592 - val_loss: 0.5317 - val_get_f1: 0.7425\n",
      "Epoch 122/300\n",
      "36/36 [==============================] - 1s 14ms/step - loss: 0.0819 - get_f1: 0.9640 - val_loss: 0.4311 - val_get_f1: 0.7925\n",
      "Epoch 123/300\n",
      "36/36 [==============================] - 1s 15ms/step - loss: 0.0673 - get_f1: 0.9642 - val_loss: 0.4283 - val_get_f1: 0.7846\n",
      "Epoch 124/300\n",
      "36/36 [==============================] - 1s 14ms/step - loss: 0.0864 - get_f1: 0.9575 - val_loss: 0.4211 - val_get_f1: 0.7648\n",
      "Epoch 125/300\n",
      "36/36 [==============================] - 1s 14ms/step - loss: 0.1023 - get_f1: 0.9512 - val_loss: 0.4344 - val_get_f1: 0.7588\n",
      "Epoch 126/300\n",
      "36/36 [==============================] - 1s 14ms/step - loss: 0.0791 - get_f1: 0.9642 - val_loss: 0.4384 - val_get_f1: 0.7917\n",
      "Epoch 127/300\n",
      "36/36 [==============================] - 1s 14ms/step - loss: 0.0745 - get_f1: 0.9717 - val_loss: 0.4551 - val_get_f1: 0.7664\n",
      "Epoch 128/300\n",
      "36/36 [==============================] - 1s 15ms/step - loss: 0.0887 - get_f1: 0.9610 - val_loss: 0.4570 - val_get_f1: 0.7805\n",
      "Epoch 129/300\n",
      "36/36 [==============================] - 1s 15ms/step - loss: 0.0869 - get_f1: 0.9485 - val_loss: 0.4256 - val_get_f1: 0.7805\n",
      "Epoch 130/300\n",
      "36/36 [==============================] - 1s 14ms/step - loss: 0.0627 - get_f1: 0.9737 - val_loss: 0.4545 - val_get_f1: 0.7881\n",
      "Epoch 131/300\n",
      "36/36 [==============================] - 1s 14ms/step - loss: 0.0889 - get_f1: 0.9527 - val_loss: 0.4788 - val_get_f1: 0.7551\n",
      "Epoch 132/300\n",
      "36/36 [==============================] - 1s 14ms/step - loss: 0.0604 - get_f1: 0.9762 - val_loss: 0.4296 - val_get_f1: 0.8043\n",
      "Epoch 133/300\n",
      "36/36 [==============================] - 1s 16ms/step - loss: 0.0670 - get_f1: 0.9719 - val_loss: 0.4370 - val_get_f1: 0.7929\n",
      "Epoch 134/300\n",
      "36/36 [==============================] - 1s 14ms/step - loss: 0.0890 - get_f1: 0.9621 - val_loss: 0.4513 - val_get_f1: 0.7739\n",
      "Epoch 135/300\n",
      "36/36 [==============================] - 1s 36ms/step - loss: 0.0884 - get_f1: 0.9550 - val_loss: 0.5779 - val_get_f1: 0.6545\n",
      "Epoch 136/300\n",
      "36/36 [==============================] - 1s 14ms/step - loss: 0.0615 - get_f1: 0.9731 - val_loss: 0.4519 - val_get_f1: 0.7637\n",
      "Epoch 137/300\n",
      "36/36 [==============================] - 1s 14ms/step - loss: 0.0740 - get_f1: 0.9668 - val_loss: 0.4384 - val_get_f1: 0.7646\n",
      "Epoch 138/300\n",
      "36/36 [==============================] - 1s 14ms/step - loss: 0.0896 - get_f1: 0.9599 - val_loss: 0.4356 - val_get_f1: 0.7750\n",
      "Epoch 139/300\n",
      "36/36 [==============================] - 1s 14ms/step - loss: 0.0519 - get_f1: 0.9910 - val_loss: 0.4735 - val_get_f1: 0.7391\n",
      "Epoch 140/300\n",
      "36/36 [==============================] - 1s 14ms/step - loss: 0.0624 - get_f1: 0.9710 - val_loss: 0.4594 - val_get_f1: 0.7789\n",
      "Epoch 141/300\n",
      "36/36 [==============================] - 1s 14ms/step - loss: 0.0625 - get_f1: 0.9669 - val_loss: 0.4607 - val_get_f1: 0.7843\n",
      "Epoch 142/300\n",
      "36/36 [==============================] - 1s 14ms/step - loss: 0.0763 - get_f1: 0.9647 - val_loss: 0.4785 - val_get_f1: 0.7695\n",
      "Epoch 143/300\n",
      "36/36 [==============================] - 1s 14ms/step - loss: 0.0634 - get_f1: 0.9738 - val_loss: 0.4464 - val_get_f1: 0.7637\n",
      "Epoch 144/300\n",
      "36/36 [==============================] - 1s 14ms/step - loss: 0.0671 - get_f1: 0.9676 - val_loss: 0.4518 - val_get_f1: 0.7777\n",
      "Epoch 145/300\n",
      "36/36 [==============================] - 1s 14ms/step - loss: 0.0575 - get_f1: 0.9842 - val_loss: 0.5104 - val_get_f1: 0.7598\n",
      "Epoch 146/300\n",
      "36/36 [==============================] - 1s 14ms/step - loss: 0.0660 - get_f1: 0.9655 - val_loss: 0.4747 - val_get_f1: 0.7438\n",
      "Epoch 147/300\n",
      "36/36 [==============================] - 1s 14ms/step - loss: 0.0600 - get_f1: 0.9751 - val_loss: 0.4912 - val_get_f1: 0.7873\n",
      "Epoch 148/300\n",
      "36/36 [==============================] - 1s 14ms/step - loss: 0.0628 - get_f1: 0.9744 - val_loss: 0.5331 - val_get_f1: 0.7247\n",
      "Epoch 149/300\n",
      "36/36 [==============================] - 1s 15ms/step - loss: 0.0648 - get_f1: 0.9737 - val_loss: 0.5175 - val_get_f1: 0.7626\n",
      "Epoch 150/300\n",
      "36/36 [==============================] - 1s 14ms/step - loss: 0.0713 - get_f1: 0.9683 - val_loss: 0.5000 - val_get_f1: 0.7265\n",
      "Epoch 151/300\n",
      "36/36 [==============================] - 1s 14ms/step - loss: 0.0685 - get_f1: 0.9665 - val_loss: 0.5909 - val_get_f1: 0.6736\n",
      "Epoch 152/300\n",
      "36/36 [==============================] - 1s 16ms/step - loss: 0.0546 - get_f1: 0.9789 - val_loss: 0.4473 - val_get_f1: 0.7513\n",
      "Epoch 153/300\n",
      "36/36 [==============================] - 1s 14ms/step - loss: 0.0679 - get_f1: 0.9728 - val_loss: 0.4646 - val_get_f1: 0.7699\n",
      "Epoch 154/300\n",
      "36/36 [==============================] - 1s 14ms/step - loss: 0.0556 - get_f1: 0.9817 - val_loss: 0.4702 - val_get_f1: 0.7694\n",
      "Epoch 155/300\n",
      "36/36 [==============================] - 1s 15ms/step - loss: 0.0745 - get_f1: 0.9656 - val_loss: 0.4633 - val_get_f1: 0.7428\n",
      "Epoch 156/300\n",
      "36/36 [==============================] - 1s 14ms/step - loss: 0.0638 - get_f1: 0.9746 - val_loss: 0.5204 - val_get_f1: 0.7491\n",
      "Epoch 157/300\n",
      "36/36 [==============================] - 1s 15ms/step - loss: 0.0579 - get_f1: 0.9730 - val_loss: 0.5122 - val_get_f1: 0.7651\n",
      "Epoch 158/300\n",
      "36/36 [==============================] - 1s 14ms/step - loss: 0.0580 - get_f1: 0.9740 - val_loss: 0.4831 - val_get_f1: 0.7505\n",
      "Epoch 159/300\n",
      "36/36 [==============================] - 1s 14ms/step - loss: 0.0437 - get_f1: 0.9881 - val_loss: 0.4851 - val_get_f1: 0.7264\n",
      "Epoch 160/300\n",
      "36/36 [==============================] - 1s 14ms/step - loss: 0.0604 - get_f1: 0.9735 - val_loss: 0.4952 - val_get_f1: 0.7691\n",
      "Epoch 161/300\n",
      "36/36 [==============================] - 1s 14ms/step - loss: 0.0650 - get_f1: 0.9660 - val_loss: 0.4754 - val_get_f1: 0.7726\n",
      "Epoch 162/300\n",
      "36/36 [==============================] - 0s 13ms/step - loss: 0.0596 - get_f1: 0.9698 - val_loss: 0.4946 - val_get_f1: 0.7661\n",
      "Epoch 163/300\n",
      "36/36 [==============================] - 0s 13ms/step - loss: 0.0536 - get_f1: 0.9780 - val_loss: 0.5439 - val_get_f1: 0.7547\n",
      "Epoch 164/300\n",
      "36/36 [==============================] - 1s 14ms/step - loss: 0.0830 - get_f1: 0.9652 - val_loss: 0.4986 - val_get_f1: 0.7748\n",
      "Epoch 165/300\n",
      "36/36 [==============================] - 1s 14ms/step - loss: 0.0677 - get_f1: 0.9598 - val_loss: 0.5046 - val_get_f1: 0.7138\n",
      "Epoch 166/300\n",
      "36/36 [==============================] - 1s 14ms/step - loss: 0.0656 - get_f1: 0.9704 - val_loss: 0.5454 - val_get_f1: 0.7442\n",
      "Epoch 167/300\n",
      "36/36 [==============================] - 1s 14ms/step - loss: 0.0827 - get_f1: 0.9680 - val_loss: 0.4953 - val_get_f1: 0.7588\n",
      "Epoch 168/300\n",
      "36/36 [==============================] - 1s 14ms/step - loss: 0.0598 - get_f1: 0.9769 - val_loss: 0.5493 - val_get_f1: 0.7672\n",
      "Epoch 169/300\n",
      "36/36 [==============================] - 1s 14ms/step - loss: 0.0635 - get_f1: 0.9776 - val_loss: 0.4688 - val_get_f1: 0.7823\n",
      "Epoch 170/300\n",
      "36/36 [==============================] - 0s 13ms/step - loss: 0.0451 - get_f1: 0.9833 - val_loss: 0.4670 - val_get_f1: 0.7626\n",
      "Epoch 171/300\n",
      "36/36 [==============================] - 1s 14ms/step - loss: 0.0572 - get_f1: 0.9749 - val_loss: 0.5006 - val_get_f1: 0.7510\n",
      "Epoch 172/300\n",
      "36/36 [==============================] - 1s 14ms/step - loss: 0.0706 - get_f1: 0.9580 - val_loss: 0.4819 - val_get_f1: 0.7558\n",
      "Epoch 173/300\n",
      "36/36 [==============================] - 1s 16ms/step - loss: 0.0731 - get_f1: 0.9673 - val_loss: 0.4878 - val_get_f1: 0.7559\n",
      "Epoch 174/300\n",
      "36/36 [==============================] - 1s 14ms/step - loss: 0.0811 - get_f1: 0.9434 - val_loss: 0.5293 - val_get_f1: 0.7554\n",
      "Epoch 175/300\n",
      "36/36 [==============================] - 1s 14ms/step - loss: 0.0535 - get_f1: 0.9765 - val_loss: 0.5348 - val_get_f1: 0.7512\n",
      "Epoch 176/300\n",
      "36/36 [==============================] - 1s 14ms/step - loss: 0.0423 - get_f1: 0.9769 - val_loss: 0.4832 - val_get_f1: 0.7772\n",
      "Epoch 177/300\n",
      "36/36 [==============================] - 1s 14ms/step - loss: 0.0417 - get_f1: 0.9896 - val_loss: 0.5118 - val_get_f1: 0.7671\n",
      "Epoch 178/300\n",
      "36/36 [==============================] - 1s 14ms/step - loss: 0.0844 - get_f1: 0.9618 - val_loss: 0.4664 - val_get_f1: 0.7888\n",
      "Epoch 179/300\n",
      "36/36 [==============================] - 1s 14ms/step - loss: 0.0433 - get_f1: 0.9828 - val_loss: 0.4613 - val_get_f1: 0.7758\n",
      "Epoch 180/300\n",
      "36/36 [==============================] - 1s 15ms/step - loss: 0.0851 - get_f1: 0.9497 - val_loss: 0.4874 - val_get_f1: 0.7339\n",
      "Epoch 181/300\n",
      "36/36 [==============================] - 1s 14ms/step - loss: 0.0695 - get_f1: 0.9687 - val_loss: 0.4773 - val_get_f1: 0.7800\n",
      "Epoch 182/300\n",
      "36/36 [==============================] - 1s 14ms/step - loss: 0.0579 - get_f1: 0.9713 - val_loss: 0.4940 - val_get_f1: 0.7765\n",
      "Epoch 183/300\n",
      "36/36 [==============================] - 1s 14ms/step - loss: 0.0604 - get_f1: 0.9675 - val_loss: 0.5160 - val_get_f1: 0.7833\n",
      "Epoch 184/300\n",
      "36/36 [==============================] - 1s 15ms/step - loss: 0.0378 - get_f1: 0.9887 - val_loss: 0.5422 - val_get_f1: 0.7688\n",
      "Epoch 185/300\n",
      "36/36 [==============================] - 1s 15ms/step - loss: 0.0545 - get_f1: 0.9723 - val_loss: 0.4682 - val_get_f1: 0.7812\n",
      "Epoch 186/300\n",
      "36/36 [==============================] - 1s 15ms/step - loss: 0.0517 - get_f1: 0.9825 - val_loss: 0.4996 - val_get_f1: 0.7694\n",
      "Epoch 187/300\n",
      "36/36 [==============================] - 1s 14ms/step - loss: 0.0423 - get_f1: 0.9820 - val_loss: 0.4998 - val_get_f1: 0.7804\n",
      "Epoch 188/300\n",
      "36/36 [==============================] - 1s 14ms/step - loss: 0.0663 - get_f1: 0.9722 - val_loss: 0.5850 - val_get_f1: 0.7082\n",
      "Epoch 189/300\n",
      "36/36 [==============================] - 1s 14ms/step - loss: 0.0456 - get_f1: 0.9788 - val_loss: 0.5174 - val_get_f1: 0.7582\n",
      "Epoch 190/300\n",
      "36/36 [==============================] - 1s 14ms/step - loss: 0.0547 - get_f1: 0.9774 - val_loss: 0.5363 - val_get_f1: 0.7501\n",
      "Epoch 191/300\n",
      "36/36 [==============================] - 1s 35ms/step - loss: 0.0704 - get_f1: 0.9650 - val_loss: 0.4590 - val_get_f1: 0.7900\n",
      "Epoch 192/300\n",
      "36/36 [==============================] - 1s 15ms/step - loss: 0.0586 - get_f1: 0.9705 - val_loss: 0.5135 - val_get_f1: 0.7629\n",
      "Epoch 193/300\n",
      "36/36 [==============================] - 1s 15ms/step - loss: 0.0601 - get_f1: 0.9623 - val_loss: 0.5005 - val_get_f1: 0.7760\n",
      "Epoch 194/300\n",
      "36/36 [==============================] - 1s 15ms/step - loss: 0.0489 - get_f1: 0.9847 - val_loss: 0.4874 - val_get_f1: 0.7735\n",
      "Epoch 195/300\n",
      "36/36 [==============================] - 1s 15ms/step - loss: 0.0507 - get_f1: 0.9795 - val_loss: 0.4717 - val_get_f1: 0.8100\n",
      "Epoch 196/300\n",
      "36/36 [==============================] - 1s 14ms/step - loss: 0.0537 - get_f1: 0.9766 - val_loss: 0.4924 - val_get_f1: 0.7584\n",
      "Epoch 197/300\n",
      "36/36 [==============================] - 1s 14ms/step - loss: 0.0535 - get_f1: 0.9778 - val_loss: 0.4910 - val_get_f1: 0.7769\n",
      "Epoch 198/300\n",
      "36/36 [==============================] - 1s 14ms/step - loss: 0.0703 - get_f1: 0.9555 - val_loss: 0.5194 - val_get_f1: 0.7565\n",
      "Epoch 199/300\n",
      "36/36 [==============================] - 1s 14ms/step - loss: 0.0537 - get_f1: 0.9721 - val_loss: 0.4826 - val_get_f1: 0.7591\n",
      "Epoch 200/300\n",
      "36/36 [==============================] - 1s 15ms/step - loss: 0.0314 - get_f1: 0.9892 - val_loss: 0.5134 - val_get_f1: 0.7653\n",
      "Epoch 201/300\n",
      "36/36 [==============================] - 1s 14ms/step - loss: 0.0543 - get_f1: 0.9739 - val_loss: 0.4846 - val_get_f1: 0.7755\n",
      "Epoch 202/300\n",
      "36/36 [==============================] - 1s 14ms/step - loss: 0.0427 - get_f1: 0.9818 - val_loss: 0.4763 - val_get_f1: 0.7789\n",
      "Epoch 203/300\n",
      "36/36 [==============================] - 1s 15ms/step - loss: 0.0627 - get_f1: 0.9697 - val_loss: 0.4755 - val_get_f1: 0.8149\n",
      "Epoch 204/300\n",
      "36/36 [==============================] - 1s 15ms/step - loss: 0.0715 - get_f1: 0.9684 - val_loss: 0.5044 - val_get_f1: 0.7839\n",
      "Epoch 205/300\n",
      "36/36 [==============================] - 1s 14ms/step - loss: 0.0518 - get_f1: 0.9760 - val_loss: 0.4915 - val_get_f1: 0.8010\n",
      "Epoch 206/300\n",
      "36/36 [==============================] - 1s 14ms/step - loss: 0.0507 - get_f1: 0.9787 - val_loss: 0.4737 - val_get_f1: 0.7663\n",
      "Epoch 207/300\n",
      "36/36 [==============================] - 1s 14ms/step - loss: 0.0543 - get_f1: 0.9805 - val_loss: 0.5148 - val_get_f1: 0.7638\n",
      "Epoch 208/300\n",
      "36/36 [==============================] - 1s 14ms/step - loss: 0.0516 - get_f1: 0.9700 - val_loss: 0.5279 - val_get_f1: 0.7505\n",
      "Epoch 209/300\n",
      "36/36 [==============================] - 1s 14ms/step - loss: 0.0406 - get_f1: 0.9836 - val_loss: 0.5127 - val_get_f1: 0.7852\n",
      "Epoch 210/300\n",
      "36/36 [==============================] - 1s 14ms/step - loss: 0.0322 - get_f1: 0.9886 - val_loss: 0.5192 - val_get_f1: 0.7189\n",
      "Epoch 211/300\n",
      "36/36 [==============================] - 1s 17ms/step - loss: 0.0635 - get_f1: 0.9684 - val_loss: 0.5693 - val_get_f1: 0.7413\n",
      "Epoch 212/300\n",
      "36/36 [==============================] - 1s 14ms/step - loss: 0.0626 - get_f1: 0.9739 - val_loss: 0.5068 - val_get_f1: 0.7644\n",
      "Epoch 213/300\n",
      "36/36 [==============================] - 1s 14ms/step - loss: 0.0437 - get_f1: 0.9812 - val_loss: 0.5031 - val_get_f1: 0.7794\n",
      "Epoch 214/300\n",
      "36/36 [==============================] - 1s 14ms/step - loss: 0.0320 - get_f1: 0.9902 - val_loss: 0.5006 - val_get_f1: 0.7981\n",
      "Epoch 215/300\n",
      "36/36 [==============================] - 1s 14ms/step - loss: 0.0549 - get_f1: 0.9731 - val_loss: 0.5049 - val_get_f1: 0.7741\n",
      "Epoch 216/300\n",
      "36/36 [==============================] - 1s 14ms/step - loss: 0.0577 - get_f1: 0.9676 - val_loss: 0.4786 - val_get_f1: 0.8046\n",
      "Epoch 217/300\n",
      "36/36 [==============================] - 1s 14ms/step - loss: 0.0436 - get_f1: 0.9826 - val_loss: 0.5118 - val_get_f1: 0.7799\n",
      "Epoch 218/300\n",
      "36/36 [==============================] - 1s 15ms/step - loss: 0.0402 - get_f1: 0.9826 - val_loss: 0.5007 - val_get_f1: 0.7963\n",
      "Epoch 219/300\n",
      "36/36 [==============================] - 1s 14ms/step - loss: 0.0647 - get_f1: 0.9655 - val_loss: 0.5137 - val_get_f1: 0.7774\n",
      "Epoch 220/300\n",
      "36/36 [==============================] - 1s 14ms/step - loss: 0.0485 - get_f1: 0.9764 - val_loss: 0.4917 - val_get_f1: 0.7736\n"
     ]
    }
   ],
   "source": [
    "callback = tf.keras.callbacks.EarlyStopping(monitor='loss', patience=20)\n",
    "history_v2 = model_v2.fit_generator(training_generator, epochs=300, validation_data = validation_generator, callbacks = [callback])"
   ]
  },
  {
   "cell_type": "markdown",
   "id": "53a3af56",
   "metadata": {
    "papermill": {
     "duration": 0.157296,
     "end_time": "2022-11-11T15:40:21.865866",
     "exception": false,
     "start_time": "2022-11-11T15:40:21.708570",
     "status": "completed"
    },
    "tags": []
   },
   "source": [
    "## Results/Analysis"
   ]
  },
  {
   "cell_type": "code",
   "execution_count": 23,
   "id": "e972c29c",
   "metadata": {
    "execution": {
     "iopub.execute_input": "2022-11-11T15:40:22.177598Z",
     "iopub.status.busy": "2022-11-11T15:40:22.176739Z",
     "iopub.status.idle": "2022-11-11T15:40:22.390888Z",
     "shell.execute_reply": "2022-11-11T15:40:22.390113Z"
    },
    "papermill": {
     "duration": 0.372913,
     "end_time": "2022-11-11T15:40:22.393043",
     "exception": false,
     "start_time": "2022-11-11T15:40:22.020130",
     "status": "completed"
    },
    "tags": []
   },
   "outputs": [
    {
     "data": {
      "image/png": "[encoded data removed]",
      "text/plain": [
       "<Figure size 432x288 with 1 Axes>"
      ]
     },
     "metadata": {
      "needs_background": "light"
     },
     "output_type": "display_data"
    }
   ],
   "source": [
    "plt.plot(history_v2.history['get_f1'])\n",
    "plt.plot(history_v2.history['val_get_f1'])\n",
    "plt.title('Model Accuracy')\n",
    "plt.ylabel('accuracy')\n",
    "plt.xlabel('epoch')\n",
    "plt.legend(['train', 'validate'])\n",
    "plt.show()"
   ]
  },
  {
   "cell_type": "code",
   "execution_count": 24,
   "id": "1697bc34",
   "metadata": {
    "execution": {
     "iopub.execute_input": "2022-11-11T15:40:22.774209Z",
     "iopub.status.busy": "2022-11-11T15:40:22.773544Z",
     "iopub.status.idle": "2022-11-11T15:40:22.976091Z",
     "shell.execute_reply": "2022-11-11T15:40:22.975029Z"
    },
    "papermill": {
     "duration": 0.430177,
     "end_time": "2022-11-11T15:40:22.978759",
     "exception": false,
     "start_time": "2022-11-11T15:40:22.548582",
     "status": "completed"
    },
    "tags": []
   },
   "outputs": [
    {
     "data": {
      "image/png": "[encoded data removed]",
      "text/plain": [
       "<Figure size 432x288 with 1 Axes>"
      ]
     },
     "metadata": {
      "needs_background": "light"
     },
     "output_type": "display_data"
    }
   ],
   "source": [
    "plt.plot(history_v2.history['loss'])\n",
    "plt.plot(history_v2.history['val_loss'])\n",
    "plt.title('Loss by Epoch')\n",
    "plt.ylabel('loss')\n",
    "plt.xlabel('epoch')\n",
    "plt.legend(['train', 'validate'])\n",
    "plt.show()"
   ]
  },
  {
   "cell_type": "markdown",
   "id": "502aebdc",
   "metadata": {
    "papermill": {
     "duration": 0.157409,
     "end_time": "2022-11-11T15:40:23.293465",
     "exception": false,
     "start_time": "2022-11-11T15:40:23.136056",
     "status": "completed"
    },
    "tags": []
   },
   "source": [
    "So how did we do? Above, you can see the results of my \"best\" run, which eventually scored me near the top of the (now closed) leaderboard, with public/private scores of 0.956 and 0.939. Which hyperparameters seemed to have the greatest effect?\n",
    "\n",
    "First, adding more convolutional layers and filters helped tremendously, as did adding more epochs. This would of course slow down the training step, although for such a small dataset, we're talking in the magnitude of seconds rather than hours. Because the first model was so simple (by trainable parameters as well as filters), clearly we weren't pulling out all aspects of the images we were training on. However, after making these changes, it was clear that the model was overfitting, as validation loss would eventually increase dramatically. I added in batch normalization and dropout layers, but importantly also added in early stopping (which in the final model wasn't actually utilized), further tuning the \"patience\" hyperparameter within early stopping to be incredibly forgiving (20).\n",
    "\n",
    "One of the other single biggest changes was utilizing the f1 scoring function rather than straight \"accuracy.\" This helped my model jump in score by at least 2-3 percentage points. Intuitively, this actually makes sense, given we were training the model using a metric it wouldn't actually be scored on."
   ]
  },
  {
   "cell_type": "code",
   "execution_count": 25,
   "id": "0c38b827",
   "metadata": {
    "execution": {
     "iopub.execute_input": "2022-11-11T15:40:23.614943Z",
     "iopub.status.busy": "2022-11-11T15:40:23.614232Z",
     "iopub.status.idle": "2022-11-11T15:40:23.742139Z",
     "shell.execute_reply": "2022-11-11T15:40:23.741100Z"
    },
    "papermill": {
     "duration": 0.290279,
     "end_time": "2022-11-11T15:40:23.744460",
     "exception": false,
     "start_time": "2022-11-11T15:40:23.454181",
     "status": "completed"
    },
    "tags": []
   },
   "outputs": [
    {
     "name": "stdout",
     "output_type": "stream",
     "text": [
      "(476, 20, 20)\n",
      "(476, 20, 20, 1)\n"
     ]
    }
   ],
   "source": [
    "with open(PATH+'X_test_df.csv') as f:\n",
    "    x_test = f.readlines()\n",
    "\n",
    "for j in range(1, len(x_test)):\n",
    "    x_test[j] = x_test[j].split(',')\n",
    "    x_test[j] = x_test[j][1:]\n",
    "    for f in range(0, len(x_test[j])):\n",
    "        x_test[j][f] = float(x_test[j][f])\n",
    "    x_test[j] = np.array(x_test[j]).reshape(20,20)\n",
    "x_test = x_test[1:]    \n",
    "x_test = np.array(x_test)\n",
    "\n",
    "print(x_test.shape)\n",
    "x_test = np.reshape(x_test, (476, 20, 20, 1))\n",
    "print(x_test.shape)"
   ]
  },
  {
   "cell_type": "code",
   "execution_count": 26,
   "id": "51db8453",
   "metadata": {
    "execution": {
     "iopub.execute_input": "2022-11-11T15:40:24.061281Z",
     "iopub.status.busy": "2022-11-11T15:40:24.060216Z",
     "iopub.status.idle": "2022-11-11T15:40:24.066147Z",
     "shell.execute_reply": "2022-11-11T15:40:24.065430Z"
    },
    "papermill": {
     "duration": 0.167143,
     "end_time": "2022-11-11T15:40:24.068393",
     "exception": false,
     "start_time": "2022-11-11T15:40:23.901250",
     "status": "completed"
    },
    "tags": []
   },
   "outputs": [],
   "source": [
    "#test_images = pd.DataFrame({'id':os.listdir(test_path)})\n",
    "testing_datagen = ImageDataGenerator(rescale=1./255.)\n",
    "testing_generator = testing_datagen.flow(x=x_test, \n",
    "                                         batch_size=1, \n",
    "                                         shuffle=False)"
   ]
  },
  {
   "cell_type": "code",
   "execution_count": 27,
   "id": "d7b8dfa5",
   "metadata": {
    "execution": {
     "iopub.execute_input": "2022-11-11T15:40:24.386322Z",
     "iopub.status.busy": "2022-11-11T15:40:24.385310Z",
     "iopub.status.idle": "2022-11-11T15:40:25.318078Z",
     "shell.execute_reply": "2022-11-11T15:40:25.316877Z"
    },
    "papermill": {
     "duration": 1.094637,
     "end_time": "2022-11-11T15:40:25.320625",
     "exception": false,
     "start_time": "2022-11-11T15:40:24.225988",
     "status": "completed"
    },
    "tags": []
   },
   "outputs": [
    {
     "name": "stdout",
     "output_type": "stream",
     "text": [
      "476/476 [==============================] - 1s 2ms/step\n"
     ]
    }
   ],
   "source": [
    "predict = model.predict(testing_generator, verbose=1)"
   ]
  },
  {
   "cell_type": "code",
   "execution_count": 28,
   "id": "e2a9faf2",
   "metadata": {
    "execution": {
     "iopub.execute_input": "2022-11-11T15:40:25.642548Z",
     "iopub.status.busy": "2022-11-11T15:40:25.642149Z",
     "iopub.status.idle": "2022-11-11T15:40:26.856501Z",
     "shell.execute_reply": "2022-11-11T15:40:26.855548Z"
    },
    "papermill": {
     "duration": 1.378462,
     "end_time": "2022-11-11T15:40:26.858811",
     "exception": false,
     "start_time": "2022-11-11T15:40:25.480349",
     "status": "completed"
    },
    "tags": []
   },
   "outputs": [
    {
     "name": "stdout",
     "output_type": "stream",
     "text": [
      "476/476 [==============================] - 1s 2ms/step\n"
     ]
    }
   ],
   "source": [
    "predict_v2 = model_v2.predict(testing_generator, verbose=1)"
   ]
  },
  {
   "cell_type": "code",
   "execution_count": 29,
   "id": "6c296f25",
   "metadata": {
    "execution": {
     "iopub.execute_input": "2022-11-11T15:40:27.184312Z",
     "iopub.status.busy": "2022-11-11T15:40:27.183599Z",
     "iopub.status.idle": "2022-11-11T15:40:27.199365Z",
     "shell.execute_reply": "2022-11-11T15:40:27.198229Z"
    },
    "papermill": {
     "duration": 0.183447,
     "end_time": "2022-11-11T15:40:27.201525",
     "exception": false,
     "start_time": "2022-11-11T15:40:27.018078",
     "status": "completed"
    },
    "tags": []
   },
   "outputs": [
    {
     "name": "stdout",
     "output_type": "stream",
     "text": [
      "   index  label\n",
      "0      0      0\n",
      "1      1      0\n",
      "2      2      0\n",
      "3      3      0\n",
      "4      4      0\n",
      "5      5      0\n",
      "6      6      1\n",
      "7      7      0\n",
      "8      8      1\n",
      "9      9      0\n"
     ]
    }
   ],
   "source": [
    "active_model_preds = predict_v2\n",
    "\n",
    "submit = pd.DataFrame()\n",
    "submit['index'] = np.arange(0, 476, 1)\n",
    "submit['label'] = list(map(lambda x: 0 if x < 0.5 else 1, active_model_preds))\n",
    "print(submit.head(10))\n",
    "submit.to_csv('output.csv', index=False)"
   ]
  },
  {
   "cell_type": "markdown",
   "id": "3f7645ab",
   "metadata": {
    "papermill": {
     "duration": 0.170192,
     "end_time": "2022-11-11T15:40:27.548594",
     "exception": false,
     "start_time": "2022-11-11T15:40:27.378402",
     "status": "completed"
    },
    "tags": []
   },
   "source": [
    "## Conclusion"
   ]
  },
  {
   "cell_type": "markdown",
   "id": "0eb28926",
   "metadata": {
    "papermill": {
     "duration": 0.160144,
     "end_time": "2022-11-11T15:40:27.869794",
     "exception": false,
     "start_time": "2022-11-11T15:40:27.709650",
     "status": "completed"
    },
    "tags": []
   },
   "source": [
    "This was a fun final project, especially given that after rushing through the rest of the course, I had the breathing room to really sit with the models I was developing, as well as the training data, to fully play with many of the hyperparameters. It gave me a great sense of the give and take between under-cooking your solution and overdoing a model.\n",
    "\n",
    "With that in mind, below are three takeaways that most specifically pertain to the exercise above, but I think are also generalizable to deep learning as a whole.\n",
    "\n",
    "1. Overfit your model!... and then pull back a bit. What I mean by this is that it's easy to slowly add elements to your model to try and bump up your score very piecemeal, but this can be an arduous process, especially in very complex models with so many parameters to tweak. It's sometimes quickest to \"go for the gold\" and overfit your model, and then back up and implement in a way that minimizes that overfit. In general, it's not hard to detect overfitting, so (with reasonable computing power) this can be the best way to move forward.\n",
    "2. Make sure to train on the right metrics. What was interesting about the cancer detection study during our CNN week was the use of accuracy as the metric. Although it is just a Kaggle exercise with scrubbed data an no real-world implications, that is a situation where you would absolutely want to maximize the recall of the model rather than the accuracy, given the consequences of falsely \"detecting\" cancer in a patient is rather low compared to falsely missing the presence of cancer in a patient (which is incredibly high). In real-world situations, it's important to select the right metric to train on, and in these competitions, it's easy to see that training on the metric you'll be evaluated on can really help your performance.\n",
    "3. Sometimes, it helps to havea baseline model to compare against. Although my baseline model was the poorest performing of all my attempts, I did have a few times where a (usually overfit) model would perform nearly as poorly. By that point, I had added enough new layers and tweaked enough hyperparameters to sort of lose track of what changes I had made. Knowing where you started, with a baseline model, and keeping track via version control, change logs, commits, etc. can really help you backtrack to your best-case model, identifying the one you actually want to implement.\n",
    "\n",
    "I hope this course has been as helpful for you as it has for me. Best of luck in the rest of your studies!"
   ]
  },
  {
   "cell_type": "code",
   "execution_count": null,
   "id": "95b669f4",
   "metadata": {
    "papermill": {
     "duration": 0.159633,
     "end_time": "2022-11-11T15:40:28.241375",
     "exception": false,
     "start_time": "2022-11-11T15:40:28.081742",
     "status": "completed"
    },
    "tags": []
   },
   "outputs": [],
   "source": []
  }
 ],
 "metadata": {
  "kernelspec": {
   "display_name": "Python 3",
   "language": "python",
   "name": "python3"
  },
  "language_info": {
   "codemirror_mode": {
    "name": "ipython",
    "version": 3
   },
   "file_extension": ".py",
   "mimetype": "text/x-python",
   "name": "python",
   "nbconvert_exporter": "python",
   "pygments_lexer": "ipython3",
   "version": "3.7.12"
  },
  "papermill": {
   "default_parameters": {},
   "duration": 180.359902,
   "end_time": "2022-11-11T15:40:31.664227",
   "environment_variables": {},
   "exception": null,
   "input_path": "__notebook__.ipynb",
   "output_path": "__notebook__.ipynb",
   "parameters": {},
   "start_time": "2022-11-11T15:37:31.304325",
   "version": "2.3.4"
  }
 },
 "nbformat": 4,
 "nbformat_minor": 5
}
